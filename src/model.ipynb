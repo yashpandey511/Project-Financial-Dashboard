{
 "cells": [
  {
   "cell_type": "markdown",
   "metadata": {},
   "source": [
    "# Importing Libraries"
   ]
  },
  {
   "cell_type": "code",
   "execution_count": 1,
   "metadata": {},
   "outputs": [],
   "source": [
    "#Importing the libraries\n",
    "import statistics\n",
    "import pandas as pd\n",
    "import requests\n",
    "from bs4 import BeautifulSoup\n",
    "import warnings\n",
    "warnings.filterwarnings(\"ignore\")"
   ]
  },
  {
   "cell_type": "markdown",
   "metadata": {},
   "source": [
    "# Data Extraction"
   ]
  },
  {
   "cell_type": "code",
   "execution_count": 2,
   "metadata": {},
   "outputs": [
    {
     "name": "stdout",
     "output_type": "stream",
     "text": [
      "MRF\n"
     ]
    }
   ],
   "source": [
    "company = input(\"Enter the company name: \")\n",
    "print(company)"
   ]
  },
  {
   "cell_type": "code",
   "execution_count": 3,
   "metadata": {},
   "outputs": [
    {
     "name": "stdout",
     "output_type": "stream",
     "text": [
      "b'\\n<!DOCTYPE html>\\n\\n<html lang=\"en\">\\n<head>\\n<meta charset=\"utf-8\"/>\\n<meta content=\"width=device-width, initial-scale=1\" name=\"viewport\"/>\\n<title>\\n  MRF Ltd share price | About MRF | Key Insights\\n - Screener</title>\\n<!-- plausible -->\\n<script data-domain=\"screener.in\" defer=\"\" event-user=\"unregistered\" src=\"https://plausible.screener.in/js/script.pageview-props.tagged-events.js\"></script>\\n<script>window.plausible = window.plausible || function () { (window.plausible.q = window.plausible.q || []).push(arguments) }</script>\\n<!-- FONT -->\\n<link href=\"https://cdn-static.screener.in/inter/inter.43d4904a3137.css\" rel=\"stylesheet\"/>\\n<link href=\"https://cdn-static.screener.in/fontello/css/fontello.7a9b496c6953.css\" rel=\"stylesheet\"/>\\n<!-- CSS -->\\n<link href=\"https://cdn-static.screener.in/css/normalize.a2444750a947.css\" media=\"all\" rel=\"stylesheet\"/>\\n<link href=\"https://cdn-static.screener.in/css/skeleton.a559606ed89c.css\" media=\"all\" rel=\"stylesheet\"/>\\n<link href=\"https://cdn-static.screener.in/css/custom.16854b0ec55c.css\" media=\"all\" rel=\"stylesheet\"/>\\n<link href=\"/company/MRF/consolidated/\" rel=\"canonical\"/>\\n<style>\\n  tr[data-row-company-id=\"2141\"] {\\n    font-weight: 500;\\n  }\\n\\n  tr[data-row-company-id=\"2141\"] a {\\n    color: var(--ink-900);\\n  }\\n\\n  :target {\\n    scroll-margin-top: 90px;\\n  }\\n\\n  @supports not (scroll-margin-top: 90px) {\\n    :target {\\n      padding-top: 108px;\\n    }\\n  }\\n\\n  @media (min-width: 992px) {\\n    nav {\\n      margin-bottom: 0;\\n    }\\n\\n    .company-nav {\\n      top: 50px;\\n      margin-bottom: 24px;\\n    }\\n  }\\n  </style>\\n<meta content=\"Mittal Analytics Private Limited\" name=\"author\"/>\\n<!-- PWA manifest -->\\n<meta content=\"#fff\" media=\"(prefers-color-scheme: light)\" name=\"theme-color\"/>\\n<meta content=\"#222530\" media=\"(prefers-color-scheme: dark)\" name=\"theme-color\"/>\\n<link href=\"/static/manifest.json\" rel=\"manifest\"/>\\n<!-- favicons -->\\n<link href=\"https://cdn-static.screener.in/favicon/apple-touch-icon.b6e5f24bf7d3.png\" rel=\"apple-touch-icon\" sizes=\"180x180\"/>\\n<link href=\"https://cdn-static.screener.in/favicon/favicon-32x32.00205914303a.png\" rel=\"icon\" sizes=\"32x32\" type=\"image/png\"/>\\n<link href=\"https://cdn-static.screener.in/favicon/favicon-16x16.2b35594b2f33.png\" rel=\"icon\" sizes=\"16x16\" type=\"image/png\"/>\\n<link color=\"#8ED443\" href=\"https://cdn-static.screener.in/favicon/safari-pinned-tab.adbe3ed3c5ad.svg\" rel=\"mask-icon\"/>\\n<meta content=\"#da532c\" name=\"msapplication-TileColor\"/>\\n</head>\\n<body class=\"light flex-column\">\\n<nav class=\"u-full-width no-print\">\\n<div id=\"mobile-search\">\\n<div class=\"has-addon left-addon dropdown-typeahead\">\\n<i class=\"addon icon-search\"></i>\\n<input aria-label=\"Search for a company\" autocomplete=\"off\" class=\"u-full-width\" data-company-search=\"true\" placeholder=\"Search for a company\" spellcheck=\"false\" type=\"search\"/>\\n</div>\\n</div>\\n<ul class=\"bottom-menu-bar hide-from-tablet-landscape\">\\n<li class=\"\">\\n<a href=\"/\">\\n<i class=\"icon-home_alt_outline\"></i>\\n<br/>\\n      Home\\n    </a>\\n</li>\\n<li class=\"\">\\n<a href=\"/explore/\">\\n<i class=\"icon-screens\"></i>\\n<br/>\\n      Screens\\n    </a>\\n</li>\\n<li>\\n<button class=\"search-button\" onclick=\"MobileMenu.toggleSearch(this)\" title=\"Search\" type=\"button\">\\n<i class=\"icon-search\" style=\"font-size: 18px\"></i>\\n</button>\\n</li>\\n<li>\\n<button class=\"button-plain\" onclick=\"Modal.showInModal(\\'#nav-tools-menu\\')\">\\n<i class=\"icon-tools\"></i>\\n<br/>\\n      Tools\\n    </button>\\n</li>\\n<li class=\"\">\\n<a href=\"/register/?\">\\n<i class=\"icon-user-plus\"></i>\\n<br/>\\n      Login\\n    </a>\\n</li>\\n</ul>\\n<div class=\"top-nav-holder\">\\n<div class=\"container\">\\n<div class=\"layer-holder top-navigation\">\\n<div class=\"layer flex flex-space-between\" style=\"align-items: center;\\n              height: 50px\">\\n<div class=\"flex\" style=\"align-items: center\">\\n<a class=\"logo-holder\" href=\"/\">\\n<img alt=\"Screener Logo\" class=\"logo\" src=\"https://cdn-static.screener.in/img/logo-black.f44abb4998d1.svg\"/>\\n</a>\\n<div class=\"desktop-links\" style=\"margin-left: 48px\">\\n<a href=\"/\">\\n          \\n            Home\\n          \\n        </a>\\n<a href=\"/explore/\">Screens</a>\\n<div class=\"dropdown-menu\">\\n<button class=\"button-plain\" onclick=\"Utils.toggleDropdown(event)\" type=\"button\">\\n            Tools\\n            <i class=\"icon-down\"></i>\\n</button>\\n<ul class=\"dropdown-content flex-column tools-menu\" id=\"nav-tools-menu\" style=\"width: 350px\">\\n<li>\\n<a class=\"flex flex-align-center flex-gap-16\" href=\"/screen/new/\">\\n<div class=\"bg-stripes square-56\">\\n<img alt=\"Create a stock screen\" src=\"https://cdn-static.screener.in/icons/screens.e960a5daedf9.svg\"/>\\n</div>\\n<div>\\n<div class=\"font-weight-500 font-size-14\">Create a stock screen</div>\\n<div class=\"sub font-size-13\">Run queries on 10 years of financial data</div>\\n</div>\\n</a>\\n</li>\\n<li class=\"flex flex-align-center no-hover\" style=\"padding: 4px 0;\">\\n<div class=\"button button-primary premium-indicator flex flex-align-center\">\\n<img alt=\"Premium icon\" src=\"https://cdn-static.screener.in/icons/crown.fb0d2413ee43.svg\" style=\"margin-right: 8px\"/>\\n<span>Premium features</span>\\n</div>\\n<hr class=\"flex-grow\" style=\"padding: 0; margin: 0;\"/>\\n</li>\\n<li>\\n<a class=\"flex flex-align-center flex-gap-16\" href=\"/hs/\">\\n<div class=\"bg-stripes square-56\">\\n<img alt=\"Commodity Prices\" src=\"https://cdn-static.screener.in/icons/export.d623f0029933.svg\"/>\\n</div>\\n<div>\\n<div class=\"font-weight-500 font-size-14\">Commodity Prices</div>\\n<div class=\"sub font-size-13\">See prices and trends of over 10,000 commodities</div>\\n</div>\\n</a>\\n</li>\\n<li>\\n<a class=\"flex flex-align-center flex-gap-16\" href=\"/people/\">\\n<div class=\"bg-stripes square-56\">\\n<img alt=\"Search shareholders by name\" src=\"https://cdn-static.screener.in/icons/shares.10acc20cb936.svg\"/>\\n</div>\\n<div>\\n<div class=\"font-weight-500 font-size-14\">Search shareholders</div>\\n<div class=\"sub font-size-13\">See companies where a person holds over 1% of the shares</div>\\n</div>\\n</a>\\n</li>\\n<li>\\n<a class=\"flex flex-align-center flex-gap-16\" href=\"/announcements/\">\\n<div class=\"bg-stripes square-56\">\\n<img alt=\"Latest Announcements\" src=\"https://cdn-static.screener.in/icons/loudspeaker.88769927f6eb.svg\"/>\\n</div>\\n<div>\\n<div class=\"font-weight-500 font-size-14\">Latest Announcements</div>\\n<div class=\"sub font-size-13\">Browse, filter and set alerts for announcements.</div>\\n</div>\\n</a>\\n</li>\\n<li style=\"padding: 16px;\">\\n<a class=\"button button-primary text-align-center\" href=\"/premium/\" style=\"color: var(--white);\\n                          padding: 10px 24px\">Upgrade to premium</a>\\n</li>\\n</ul>\\n</div>\\n</div>\\n</div>\\n<div class=\"show-from-tablet-landscape flex flex-gap-16\" style=\"justify-content: flex-end;\\n                flex: 1 1 400px\">\\n<div class=\"search\" id=\"desktop-search\"><div class=\"has-addon left-addon dropdown-typeahead\">\\n<i class=\"addon icon-search\"></i>\\n<input aria-label=\"Search for a company\" autocomplete=\"off\" class=\"u-full-width\" data-company-search=\"true\" placeholder=\"Search for a company\" spellcheck=\"false\" type=\"search\"/>\\n</div>\\n</div>\\n<div class=\"flex flex-gap-8\" style=\"margin: 4px\">\\n<a class=\"button account\" href=\"/login/?\">\\n<i class=\"icon-user-line blue-icon\"></i>\\n            Login\\n          </a>\\n<a class=\"button account button-secondary\" href=\"/register/?\">Get free account</a>\\n</div>\\n</div>\\n</div>\\n</div>\\n</div>\\n</div>\\n</nav>\\n<div class=\"bg-base sticky company-nav\">\\n<div class=\"flex flex-space-between container hide-from-tablet-landscape\">\\n<h1 class=\"h2 shrink-text\" style=\"margin: 0.5em 0\">MRF Ltd</h1>\\n<button class=\"a sub plausible-event-name=Notebook plausible-event-user=unregistered\" data-is-right-modal=\"true\" data-title=\"MRF Ltd\" data-url=\"/notebook/2141/\" onclick=\"Modal.openInModal(event)\" title=\"View Notebook\" type=\"button\">\\n<i class=\"icon-book-open\"></i>\\n<span class=\"show-from-tablet-landscape\">Notebook</span>\\n</button>\\n</div>\\n<div class=\"sub-nav-holder\">\\n<div class=\"sub-nav\">\\n<a href=\"#top\">\\n<span class=\"shrink-text show-from-tablet-landscape\">MRF</span>\\n<span class=\"hide-from-tablet-landscape\">Summary</span>\\n</a>\\n<a href=\"#chart\">Chart</a>\\n<a href=\"#analysis\">Analysis</a>\\n<a href=\"#peers\">Peers</a>\\n<a href=\"#quarters\">Quarters</a>\\n<a href=\"#profit-loss\">Profit &amp; Loss</a>\\n<a href=\"#balance-sheet\">Balance Sheet</a>\\n<a href=\"#cash-flow\">Cash Flow</a>\\n<a href=\"#ratios\">Ratios</a>\\n<a href=\"#shareholding\">Investors</a>\\n<a href=\"#documents\">Documents</a>\\n<div class=\"flex-grow flex show-from-tablet-landscape\">\\n<div class=\"flex-grow\"></div>\\n<button class=\"a sub plausible-event-name=Notebook plausible-event-user=unregistered\" data-is-right-modal=\"true\" data-title=\"MRF Ltd\" data-url=\"/notebook/2141/\" onclick=\"Modal.openInModal(event)\" title=\"View Notebook\" type=\"button\">\\n<i class=\"icon-book-open\"></i>\\n<span class=\"show-from-tablet-landscape\">Notebook</span>\\n</button>\\n</div>\\n</div>\\n</div>\\n</div>\\n<main class=\"flex-grow container\">\\n<div class=\"breadcrumb hidden-if-empty\"></div>\\n<div data-company-id=\"2141\" data-warehouse-id=\"122\" id=\"company-info\"></div>\\n<div class=\"card card-large\" id=\"top\">\\n<div class=\"flex flex-space-between flex-gap-8\">\\n<div class=\"flex-row flex-wrap flex-align-center flex-grow\" style=\"flex-basis: 300px\">\\n<h1 class=\"margin-0 show-from-tablet-landscape\">MRF Ltd</h1>\\n<div class=\"ink-600 show-from-tablet-landscape\" style=\"opacity: 0.5;\">\\n<i class=\"icon-dot\"></i>\\n</div>\\n<div class=\"font-size-18 strong line-height-14\">\\n<div class=\"flex flex-align-center\">\\n<span>\\xe2\\x82\\xb9 1,26,400</span>\\n<span class=\"font-size-12 up margin-left-4\">\\n<i class=\"icon-circle-up\"></i>\\n                1.51%\\n              </span>\\n</div>\\n<div class=\"ink-600 font-size-11 font-weight-500\">\\n            \\n              08 May\\n              \\n                4:01 p.m.\\n              \\n            \\n          </div>\\n</div>\\n</div>\\n<form class=\"flex margin-0\" method=\"post\" style=\"align-items: center\">\\n<input name=\"csrfmiddlewaretoken\" type=\"hidden\" value=\"rIeXz7mspnbTfkbBaJudApkV1qpz7dwHoekGNcu489zFff0vjZU0e2i6mYuwWyUN\"/>\\n<input name=\"next\" type=\"hidden\" value=\"/company/MRF/\"/>\\n<button aria-label=\"Export to Excel\" class=\"margin-right-8 plausible-event-name=Excel+Company plausible-event-user=unregistered\" formaction=\"/user/company/export/122/\">\\n<i class=\"icon-download\"></i>\\n<span class=\"hide-on-mobile\">Export to Excel</span>\\n</button>\\n<div class=\"dropdown-filter\" id=\"add-to-sublists\">\\n<button class=\"button-primary no-margin\" formaction=\"/api/company/2141/add/\">\\n<i class=\"icon-plus\"></i> Follow\\n            </button>\\n<div class=\"hidden\" id=\"company-in-sublists\"></div>\\n</div>\\n</form>\\n</div>\\n<div class=\"company-links show-from-tablet-landscape\" style=\"font-weight: 500;\\n                margin-top: 8px\">\\n<a href=\"http://www.mrftyres.com\" rel=\"noopener noreferrer\" target=\"_blank\">\\n<i class=\"icon-link\"></i>\\n<span style=\"font-size: 1.8rem;\">mrftyres.com</span>\\n</a>\\n<a href=\"https://www.bseindia.com/stock-share-price/mrf-ltd/MRF/500290/\" rel=\"noopener noreferrer\" target=\"_blank\">\\n<i class=\"icon-link-ext\"></i>\\n<span class=\"ink-700 upper\" style=\"letter-spacing: 0.05px;\">BSE: 500290</span>\\n</a>\\n<a href=\"https://www.nseindia.com/get-quotes/equity?symbol=MRF\" rel=\"noopener noreferrer\" target=\"_blank\">\\n<i class=\"icon-link-ext\"></i>\\n<span class=\"ink-700 upper\" style=\"letter-spacing: 0.05px;\">\\n            NSE\\n            \\n            : MRF\\n          </span>\\n</a>\\n</div>\\n<div class=\"company-info\">\\n<div class=\"company-profile\">\\n<div class=\"flex flex-column\" style=\"flex: 1 1;\">\\n<div class=\"title\">About</div>\\n<div class=\"sub show-more-box about\" style=\"flex-basis: 100px\"><p>Madras Rubber Factory Limited (MRF) is the parent company of the MRF Group. The Co is engaged in the business of manufacturing tyres<sup><a href=\"https://www.bseindia.com/bseplus/AnnualReport/500290/69039500290.pdf#page=84\" rel=\"noopener noreferrer\" target=\"_blank\">[1]</a></sup></p></div>\\n<div class=\"title\">Key Points</div>\\n<div class=\"sub commentary always-show-more-box\">\\n<p><strong>Products &amp; Services</strong><br/>\\n<strong>Products:</strong> The Co manufactures tyres (flagship) for Passenger cars, Two-wheelers, Three Wheelers, OTR, Trucks, Farm tractors, LCVs, Tubes &amp; flaps, SCV, Pick up cars, MCV and ICV. <br/>\\nIt also manufactures Sports goods, Paints &amp; Coats and Pretreads. It also manufactures Puzzles, games, and toys for kids through its brand Funskool. <br/>\\n<strong>Services:</strong> T&amp;S, Tiretok, Tyredrome, MRF Fasst, Muscle Zone, and Midd. <sup><a href=\"https://www.mrftyres.com/products/tyres\" rel=\"noopener noreferrer\" target=\"_blank\">[1]</a></sup> <sup><a href=\"https://www.mrftyres.com/services/t-and-s\" rel=\"noopener noreferrer\" target=\"_blank\">[2]</a></sup></p>\\n<div class=\"show-more-button\" style=\"height: 20px\"></div>\\n</div>\\n<button class=\"a upper font-weight-500 letter-spacing plausible-event-name=Key+Insight plausible-event-user=unregistered\" data-is-right-modal=\"true\" data-title=\"MRF Ltd\" data-url=\"/wiki/company/2141/commentary/v2/\" onclick=\"Modal.openInModal(event)\" style=\"font-size: 1.4rem\" type=\"button\">\\n              Read More <i class=\"icon-right\"></i>\\n</button>\\n</div>\\n<div class=\"company-links hide-from-tablet-landscape margin-top-20\" style=\"font-weight: 500\">\\n<a href=\"http://www.mrftyres.com\" rel=\"noopener noreferrer\" target=\"_blank\">\\n<i class=\"icon-link\"></i>\\n<span style=\"font-size: 1.6rem;\">Website</span>\\n</a>\\n<a href=\"https://www.bseindia.com/stock-share-price/mrf-ltd/MRF/500290/\" rel=\"noopener noreferrer\" target=\"_blank\">\\n<i class=\"icon-link-ext\"></i>\\n<span class=\"ink-700 upper\" style=\"letter-spacing: 0.05px;\">BSE</span>\\n</a>\\n<a href=\"https://www.nseindia.com/get-quotes/equity?symbol=MRF\" rel=\"noopener noreferrer\" target=\"_blank\">\\n<i class=\"icon-link-ext\"></i>\\n<span class=\"ink-700 upper\" style=\"letter-spacing: 0.05px;\">\\n                NSE\\n                \\n              </span>\\n</a>\\n</div>\\n</div>\\n<div class=\"company-ratios\">\\n<ul id=\"top-ratios\">\\n<li class=\"flex flex-space-between\" data-source=\"default\">\\n<span class=\"name\">\\n    \\n    Market Cap\\n    \\n  </span>\\n<span class=\"nowrap value\">\\n    \\n      \\xe2\\x82\\xb9\\n    \\n    <span class=\"number\">53,592</span>\\n    \\n      Cr.\\n    \\n  </span>\\n</li>\\n<li class=\"flex flex-space-between\" data-source=\"default\">\\n<span class=\"name\">\\n    \\n    Current Price\\n    \\n  </span>\\n<span class=\"nowrap value\">\\n    \\n      \\xe2\\x82\\xb9\\n    \\n    <span class=\"number\">1,26,400</span>\\n</span>\\n</li>\\n<li class=\"flex flex-space-between\" data-source=\"default\">\\n<span class=\"name\">\\n    \\n    High / Low\\n    \\n  </span>\\n<span class=\"nowrap value\">\\xe2\\x82\\xb9 <span class=\"number\">1,51,445</span> / <span class=\"number\">94,006</span></span>\\n</li>\\n<li class=\"flex flex-space-between\" data-source=\"default\">\\n<span class=\"name\">\\n    \\n    Stock P/E\\n    \\n  </span>\\n<span class=\"nowrap value\">\\n<span class=\"number\">26.3</span>\\n</span>\\n</li>\\n<li class=\"flex flex-space-between\" data-source=\"default\">\\n<span class=\"name\">\\n    \\n    Book Value\\n    \\n  </span>\\n<span class=\"nowrap value\">\\n    \\n      \\xe2\\x82\\xb9\\n    \\n    <span class=\"number\">38,765</span>\\n</span>\\n</li>\\n<li class=\"flex flex-space-between\" data-source=\"default\">\\n<span class=\"name\">\\n    \\n    Dividend Yield\\n    \\n  </span>\\n<span class=\"nowrap value\">\\n<span class=\"number\">0.14</span>\\n    \\n      %\\n    \\n  </span>\\n</li>\\n<li class=\"flex flex-space-between\" data-source=\"default\">\\n<span class=\"name\">\\n    \\n    ROCE\\n    \\n  </span>\\n<span class=\"nowrap value\">\\n<span class=\"number\">17.0</span>\\n    \\n      %\\n    \\n  </span>\\n</li>\\n<li class=\"flex flex-space-between\" data-source=\"default\">\\n<span class=\"name\">\\n    \\n    ROE\\n    \\n  </span>\\n<span class=\"nowrap value\">\\n<span class=\"number\">13.2</span>\\n    \\n      %\\n    \\n  </span>\\n</li>\\n<li class=\"flex flex-space-between\" data-source=\"default\">\\n<span class=\"name\">\\n    \\n    Face Value\\n    \\n  </span>\\n<span class=\"nowrap value\">\\n    \\n      \\xe2\\x82\\xb9\\n    \\n    <span class=\"number\">10.0</span>\\n</span>\\n</li>\\n</ul>\\n<div style=\"margin-top: 32px;\">\\n<label for=\"quick-ratio-search\">Add ratio to table</label>\\n<div class=\"flex-row flex-space-between flex-baseline flex-gap-16\">\\n<div class=\"dropdown-typeahead flex-grow\" style=\"max-width: 480px;\">\\n<input id=\"quick-ratio-search\" placeholder=\"eg. Promoter holding\" style=\"width: 100%\" type=\"text\"/>\\n</div>\\n<a class=\"smaller\" href=\"/user/quick_ratios/?next=/company/MRF/\">\\n<i class=\"icon-pencil\"></i>\\n<span class=\"upper font-weight-500 letter-spacing\">Edit ratios</span>\\n</a>\\n</div>\\n</div>\\n</div>\\n</div>\\n</div>\\n<section class=\"card card-large\" id=\"chart\" style=\"margin-bottom: 2.5rem\">\\n<div class=\"flex flex-space-between flex-wrap\" id=\"chart-menu\" style=\"margin-bottom: 16px\">\\n<div class=\"options\" id=\"company-chart-days\">\\n<button name=\"days\" onclick=\"CompanyChart.setActive(event)\" type=\"button\" value=\"30\">1m</button>\\n<button name=\"days\" onclick=\"CompanyChart.setActive(event)\" type=\"button\" value=\"180\">6m</button>\\n<button name=\"days\" onclick=\"CompanyChart.setActive(event)\" type=\"button\" value=\"365\">1Yr</button>\\n<button name=\"days\" onclick=\"CompanyChart.setActive(event)\" type=\"button\" value=\"1095\">3Yr</button>\\n<button name=\"days\" onclick=\"CompanyChart.setActive(event)\" type=\"button\" value=\"1825\">5Yr</button>\\n<button name=\"days\" onclick=\"CompanyChart.setActive(event)\" type=\"button\" value=\"3652\">10Yr</button>\\n<button name=\"days\" onclick=\"CompanyChart.setActive(event)\" type=\"button\" value=\"10000\">Max</button>\\n</div>\\n<div class=\"flex margin-bottom-24\">\\n<div class=\"options margin-right-8\" id=\"company-chart-metrics\" style=\"margin-bottom: 0\">\\n<button class=\"plausible-event-name=Chart+Metric plausible-event-user=unregistered plausible-event-metric=Price\" name=\"metrics\" onclick=\"CompanyChart.setActive(event)\" type=\"button\" value=\"Price-DMA50-DMA200-Volume\">Price</button>\\n<button class=\"plausible-event-name=Chart+Metric plausible-event-user=unregistered plausible-event-metric=PE\" name=\"metrics\" onclick=\"CompanyChart.setActive(event)\" type=\"button\" value=\"Price to Earning-Median PE-EPS\">PE Ratio</button>\\n<button class=\"hidden\" id=\"company-chart-metrics-more-active\" name=\"metrics\" onclick=\"CompanyChart.setActive(event)\" type=\"button\" value=\"\">Hidden</button>\\n<div class=\"dropdown-menu\" id=\"metrics-dropdown\">\\n<button class=\"button-plain\" onclick=\"Utils.toggleDropdown(event)\" type=\"button\">\\n          More <i class=\"icon-down\"></i>\\n</button>\\n<ul class=\"dropdown-content\" style=\"max-width: 160px; right: 0;\">\\n<li>\\n<button class=\"a u-full-width plausible-event-name=Chart+Metric plausible-event-user=unregistered plausible-event-metric=Sales\" name=\"metrics\" onclick=\"CompanyChart.setActive(event)\" style=\"padding: 4px 12px\" type=\"button\" value=\"GPM-OPM-NPM-Quarter Sales\">Sales &amp; Margin</button>\\n</li>\\n<li>\\n<button class=\"a u-full-width plausible-event-name=Chart+Metric plausible-event-user=unregistered plausible-event-metric=EV-EBITDA\" name=\"metrics\" onclick=\"CompanyChart.setActive(event)\" style=\"padding: 4px 12px\" type=\"button\" value=\"EV Multiple-Median EV Multiple-EBITDA\">EV / EBITDA</button>\\n</li>\\n<li>\\n<button class=\"a u-full-width plausible-event-name=Chart+Metric plausible-event-user=unregistered plausible-event-metric=PBV\" name=\"metrics\" onclick=\"CompanyChart.setActive(event)\" style=\"padding: 4px 12px\" type=\"button\" value=\"Price to book value-Median PBV-Book value\">Price to Book</button>\\n</li>\\n<li>\\n<button class=\"a u-full-width plausible-event-name=Chart+Metric plausible-event-user=unregistered plausible-event-metric=Market+Cap+to+Sales\" name=\"metrics\" onclick=\"CompanyChart.setActive(event)\" style=\"padding: 4px 12px\" type=\"button\" value=\"Market Cap to Sales-Median Market Cap to Sales-Sales\">Market Cap / Sales</button>\\n</li>\\n</ul>\\n</div>\\n</div>\\n<button aria-label=\"Add alerts for company\" class=\"button-small button-secondary flex flex-align-center plausible-event-name=Stock+Alert\" data-title=\"Alerts for MRF Ltd\" data-url=\"/alerts/stock-122/\" onclick=\"Modal.openInModal(event)\" style=\"border-color: var(--button-border);\\n                     border-radius: 3px\" type=\"button\">\\n<i class=\"icon-bell\"></i>\\n<span class=\"margin-left-4 normal-case letter-spacing-0\">Alerts</span>\\n</button>\\n</div>\\n</div>\\n<div class=\"flex no-select\">\\n<div class=\"hide-on-mobile chart-label\">\\n<div id=\"chart-label-left\"></div>\\n</div>\\n<div id=\"chart-area\" style=\"flex-grow: 1;\">\\n<div class=\"invisible\" id=\"chart-info\">\\n<div id=\"chart-crosshair\"></div>\\n<div class=\"font-size-14\" id=\"chart-tooltip\">\\n<div class=\"ink-700 font-size-12\" id=\"chart-tooltip-meta\"></div>\\n<div class=\"font-weight-500 font-size-15\" id=\"chart-tooltip-title\"></div>\\n<div id=\"chart-tooltip-info\"></div>\\n</div>\\n</div>\\n<div id=\"canvas-chart-holder\" style=\"height: 375px;\"></div>\\n</div>\\n<div class=\"hide-on-mobile chart-label\">\\n<div id=\"chart-label-right\"></div>\\n</div>\\n</div>\\n<div id=\"chart-legend\"></div>\\n</section>\\n<section class=\"card card-large\" id=\"analysis\">\\n<div class=\"flex flex-column-mobile flex-gap-32\">\\n<div class=\"pros\" style=\"flex-basis: 50%;\">\\n<p class=\"title\">Pros</p>\\n<ul>\\n</ul>\\n</div>\\n<div class=\"cons\" style=\"flex-basis: 50%;\">\\n<p class=\"title\">Cons</p>\\n<ul>\\n<li>Stock is trading at 3.26 times its book value</li><li>Company has a low return on equity of 7.57% over last 3 years.</li>\\n</ul>\\n</div>\\n</div>\\n<p class=\"sub font-size-14 margin-top-16 margin-bottom-0\">\\n<span style=\"vertical-align: sub;\">*</span>\\n<span class=\"font-weight-500\">The pros and cons are machine generated.</span>\\n<span class=\"has-tooltip\">\\n<i class=\"icon-info\"></i>\\n<span class=\"tooltip\" style=\"width: 300px; left: -100px;\">\\n            Pros / cons are based on a checklist to highlight important points. Please exercise caution and do your own analysis.\\n          </span>\\n</span>\\n</p>\\n</section>\\n<section class=\"card card-large\" id=\"peers\">\\n<div class=\"flex flex-space-between\" style=\"align-items: center;\">\\n<div>\\n<h2>Peer comparison</h2>\\n<p class=\"sub\">\\n              Sector:\\n              <a href=\"/company/compare/00000065/\">Tyres</a>\\n<span style=\"margin: 16px\"></span>\\n              Industry:\\n              <a href=\"/company/compare/00000065/00000105/\">\\n                Tyres\\n              </a>\\n</p>\\n</div>\\n<div class=\"flex-reverse\">\\n<a class=\"button button-small button-secondary\" href=\"/user/columns/?next=/company/MRF/#peers\">\\n<i class=\"icon-cog\"></i>\\n<span class=\"hide-on-mobile\">Edit</span>\\n            Columns\\n          </a>\\n</div>\\n</div>\\n<div id=\"peers-table-placeholder\">Loading peers table ...</div>\\n<div class=\"flex-row flex-baseline\">\\n<label for=\"search-peer-comparison\" style=\"padding-right: 1rem\">Detailed Comparison with:</label>\\n<div class=\"dropdown-typeahead\">\\n<input class=\"small\" id=\"search-peer-comparison\" placeholder=\"eg. Infosys\" type=\"text\"/>\\n</div>\\n</div>\\n</section>\\n<section class=\"card card-large\" id=\"quarters\">\\n<div class=\"flex-row flex-space-between flex-gap-16\">\\n<div>\\n<h2>Quarterly Results</h2>\\n<p class=\"sub\" style=\"margin: 0;\">\\n      \\n        Standalone Figures in Rs. Crores\\n        /\\n        <a class=\"strong\" href=\"/company/MRF/consolidated/#quarters\">View Consolidated</a>\\n</p>\\n</div>\\n<div class=\"flex flex-gap-8\" style=\"justify-content: flex-end;\\n              align-items: center\">\\n</div>\\n</div>\\n<div class=\"responsive-holder fill-card-width\" data-result-table=\"\">\\n<table class=\"data-table responsive-text-nowrap\">\\n<thead>\\n<tr>\\n<th class=\"text\"></th>\\n<th class=\"highlight-cell\">Mar 2021</th>\\n<th class=\"\">Jun 2021</th>\\n<th class=\"\">Sep 2021</th>\\n<th class=\"\">Dec 2021</th>\\n<th class=\"highlight-cell\">Mar 2022</th>\\n<th class=\"\">Jun 2022</th>\\n<th class=\"\">Sep 2022</th>\\n<th class=\"\">Dec 2022</th>\\n<th class=\"highlight-cell\">Mar 2023</th>\\n<th class=\"\">Jun 2023</th>\\n<th class=\"\">Sep 2023</th>\\n<th class=\"\">Dec 2023</th>\\n<th class=\"highlight-cell\">Mar 2024</th>\\n</tr>\\n</thead>\\n<tbody>\\n<tr class=\"stripe\">\\n<td class=\"text\">\\n<button class=\"button-plain\" onclick=\"Company.showSchedule(\\'Sales\\', \\'quarters\\', this)\">\\n                Sales\\xc2\\xa0<span class=\"blue-icon\">+</span>\\n</button>\\n</td>\\n<td class=\"highlight-cell\">4,738</td>\\n<td class=\"\">4,128</td>\\n<td class=\"\">4,832</td>\\n<td class=\"\">4,830</td>\\n<td class=\"highlight-cell\">5,200</td>\\n<td class=\"\">5,599</td>\\n<td class=\"\">5,719</td>\\n<td class=\"\">5,535</td>\\n<td class=\"highlight-cell\">5,725</td>\\n<td class=\"\">6,323</td>\\n<td class=\"\">6,088</td>\\n<td class=\"\">6,048</td>\\n<td class=\"highlight-cell\">6,215</td>\\n</tr>\\n<tr class=\"\">\\n<td class=\"text\">\\n<button class=\"button-plain\" onclick=\"Company.showSchedule(\\'Expenses\\', \\'quarters\\', this)\">\\n                Expenses\\xc2\\xa0<span class=\"blue-icon\">+</span>\\n</button>\\n</td>\\n<td class=\"highlight-cell\">3,992</td>\\n<td class=\"\">3,640</td>\\n<td class=\"\">4,319</td>\\n<td class=\"\">4,344</td>\\n<td class=\"highlight-cell\">4,673</td>\\n<td class=\"\">5,121</td>\\n<td class=\"\">5,252</td>\\n<td class=\"\">4,986</td>\\n<td class=\"highlight-cell\">4,882</td>\\n<td class=\"\">5,209</td>\\n<td class=\"\">4,959</td>\\n<td class=\"\">5,008</td>\\n<td class=\"highlight-cell\">5,330</td>\\n</tr>\\n<tr class=\"stripe strong\">\\n<td class=\"text\">\\n            \\n              Operating Profit\\n            \\n          </td>\\n<td class=\"highlight-cell\">746</td>\\n<td class=\"\">487</td>\\n<td class=\"\">512</td>\\n<td class=\"\">486</td>\\n<td class=\"highlight-cell\">528</td>\\n<td class=\"\">478</td>\\n<td class=\"\">467</td>\\n<td class=\"\">549</td>\\n<td class=\"highlight-cell\">843</td>\\n<td class=\"\">1,114</td>\\n<td class=\"\">1,129</td>\\n<td class=\"\">1,039</td>\\n<td class=\"highlight-cell\">886</td>\\n</tr>\\n<tr class=\"\">\\n<td class=\"text\">\\n            \\n              OPM %\\n            \\n          </td>\\n<td class=\"highlight-cell\">16%</td>\\n<td class=\"\">12%</td>\\n<td class=\"\">11%</td>\\n<td class=\"\">10%</td>\\n<td class=\"highlight-cell\">10%</td>\\n<td class=\"\">9%</td>\\n<td class=\"\">8%</td>\\n<td class=\"\">10%</td>\\n<td class=\"highlight-cell\">15%</td>\\n<td class=\"\">18%</td>\\n<td class=\"\">19%</td>\\n<td class=\"\">17%</td>\\n<td class=\"highlight-cell\">14%</td>\\n</tr>\\n<tr class=\"stripe\">\\n<td class=\"text\">\\n<button class=\"button-plain\" onclick=\"Company.showSchedule(\\'Other Income\\', \\'quarters\\', this)\">\\n                Other Income\\xc2\\xa0<span class=\"blue-icon\">+</span>\\n</button>\\n</td>\\n<td class=\"highlight-cell\">57</td>\\n<td class=\"\">92</td>\\n<td class=\"\">89</td>\\n<td class=\"\">69</td>\\n<td class=\"highlight-cell\">65</td>\\n<td class=\"\">34</td>\\n<td class=\"\">76</td>\\n<td class=\"\">70</td>\\n<td class=\"highlight-cell\">148</td>\\n<td class=\"\">74</td>\\n<td class=\"\">70</td>\\n<td class=\"\">77</td>\\n<td class=\"highlight-cell\">92</td>\\n</tr>\\n<tr class=\"\">\\n<td class=\"text\">\\n            \\n              Interest\\n            \\n          </td>\\n<td class=\"highlight-cell\">75</td>\\n<td class=\"\">62</td>\\n<td class=\"\">57</td>\\n<td class=\"\">63</td>\\n<td class=\"highlight-cell\">66</td>\\n<td class=\"\">64</td>\\n<td class=\"\">70</td>\\n<td class=\"\">80</td>\\n<td class=\"highlight-cell\">84</td>\\n<td class=\"\">78</td>\\n<td class=\"\">75</td>\\n<td class=\"\">78</td>\\n<td class=\"highlight-cell\">86</td>\\n</tr>\\n<tr class=\"stripe\">\\n<td class=\"text\">\\n            \\n              Depreciation\\n            \\n          </td>\\n<td class=\"highlight-cell\">297</td>\\n<td class=\"\">301</td>\\n<td class=\"\">296</td>\\n<td class=\"\">295</td>\\n<td class=\"highlight-cell\">310</td>\\n<td class=\"\">297</td>\\n<td class=\"\">308</td>\\n<td class=\"\">315</td>\\n<td class=\"highlight-cell\">328</td>\\n<td class=\"\">332</td>\\n<td class=\"\">350</td>\\n<td class=\"\">359</td>\\n<td class=\"highlight-cell\">384</td>\\n</tr>\\n<tr class=\"strong\">\\n<td class=\"text\">\\n            \\n              Profit before tax\\n            \\n          </td>\\n<td class=\"highlight-cell\">431</td>\\n<td class=\"\">217</td>\\n<td class=\"\">249</td>\\n<td class=\"\">197</td>\\n<td class=\"highlight-cell\">217</td>\\n<td class=\"\">152</td>\\n<td class=\"\">165</td>\\n<td class=\"\">224</td>\\n<td class=\"highlight-cell\">579</td>\\n<td class=\"\">778</td>\\n<td class=\"\">773</td>\\n<td class=\"\">679</td>\\n<td class=\"highlight-cell\">508</td>\\n</tr>\\n<tr class=\"stripe\">\\n<td class=\"text\">\\n            \\n              Tax %\\n            \\n          </td>\\n<td class=\"highlight-cell\">26%</td>\\n<td class=\"\">26%</td>\\n<td class=\"\">26%</td>\\n<td class=\"\">26%</td>\\n<td class=\"highlight-cell\">28%</td>\\n<td class=\"\">26%</td>\\n<td class=\"\">25%</td>\\n<td class=\"\">24%</td>\\n<td class=\"highlight-cell\">29%</td>\\n<td class=\"\">25%</td>\\n<td class=\"\">26%</td>\\n<td class=\"\">25%</td>\\n<td class=\"highlight-cell\">25%</td>\\n</tr>\\n<tr class=\"strong\">\\n<td class=\"text\">\\n<button class=\"button-plain\" onclick=\"Company.showSchedule(\\'Net Profit\\', \\'quarters\\', this)\">\\n                Net Profit\\xc2\\xa0<span class=\"blue-icon\">+</span>\\n</button>\\n</td>\\n<td class=\"highlight-cell\">317</td>\\n<td class=\"\">161</td>\\n<td class=\"\">183</td>\\n<td class=\"\">146</td>\\n<td class=\"highlight-cell\">157</td>\\n<td class=\"\">112</td>\\n<td class=\"\">124</td>\\n<td class=\"\">169</td>\\n<td class=\"highlight-cell\">411</td>\\n<td class=\"\">581</td>\\n<td class=\"\">572</td>\\n<td class=\"\">508</td>\\n<td class=\"highlight-cell\">380</td>\\n</tr>\\n<tr class=\"stripe\">\\n<td class=\"text\">\\n            \\n              EPS in Rs\\n            \\n          </td>\\n<td class=\"highlight-cell\">748.06</td>\\n<td class=\"\">380.40</td>\\n<td class=\"\">432.39</td>\\n<td class=\"\">343.90</td>\\n<td class=\"highlight-cell\">369.67</td>\\n<td class=\"\">264.93</td>\\n<td class=\"\">292.35</td>\\n<td class=\"\">399.00</td>\\n<td class=\"highlight-cell\">968.29</td>\\n<td class=\"\">1,370.99</td>\\n<td class=\"\">1,348.54</td>\\n<td class=\"\">1,197.85</td>\\n<td class=\"highlight-cell\">894.93</td>\\n</tr>\\n<tr class=\"font-size-14 ink-600\">\\n<td class=\"text ink-600\">Raw PDF</td>\\n<td class=\"hover-link highlight-cell\">\\n<a aria-label=\"Raw PDF\" class=\"plausible-event-name=Quarterly+PDF plausible-event-user=unregistered\" href=\"/company/source/quarter/2141/03/2021/\" rel=\"noopener noreferrer\" target=\"_blank\">\\n<i class=\"icon-file-pdf ink-600-link\"></i>\\n</a>\\n</td>\\n<td class=\"hover-link\">\\n<a aria-label=\"Raw PDF\" class=\"plausible-event-name=Quarterly+PDF plausible-event-user=unregistered\" href=\"/company/source/quarter/2141/06/2021/\" rel=\"noopener noreferrer\" target=\"_blank\">\\n<i class=\"icon-file-pdf ink-600-link\"></i>\\n</a>\\n</td>\\n<td class=\"hover-link\">\\n<a aria-label=\"Raw PDF\" class=\"plausible-event-name=Quarterly+PDF plausible-event-user=unregistered\" href=\"/company/source/quarter/2141/09/2021/\" rel=\"noopener noreferrer\" target=\"_blank\">\\n<i class=\"icon-file-pdf ink-600-link\"></i>\\n</a>\\n</td>\\n<td class=\"hover-link\">\\n<a aria-label=\"Raw PDF\" class=\"plausible-event-name=Quarterly+PDF plausible-event-user=unregistered\" href=\"/company/source/quarter/2141/12/2021/\" rel=\"noopener noreferrer\" target=\"_blank\">\\n<i class=\"icon-file-pdf ink-600-link\"></i>\\n</a>\\n</td>\\n<td class=\"hover-link highlight-cell\">\\n<a aria-label=\"Raw PDF\" class=\"plausible-event-name=Quarterly+PDF plausible-event-user=unregistered\" href=\"/company/source/quarter/2141/03/2022/\" rel=\"noopener noreferrer\" target=\"_blank\">\\n<i class=\"icon-file-pdf ink-600-link\"></i>\\n</a>\\n</td>\\n<td class=\"hover-link\">\\n<a aria-label=\"Raw PDF\" class=\"plausible-event-name=Quarterly+PDF plausible-event-user=unregistered\" href=\"/company/source/quarter/2141/06/2022/\" rel=\"noopener noreferrer\" target=\"_blank\">\\n<i class=\"icon-file-pdf ink-600-link\"></i>\\n</a>\\n</td>\\n<td class=\"hover-link\">\\n<a aria-label=\"Raw PDF\" class=\"plausible-event-name=Quarterly+PDF plausible-event-user=unregistered\" href=\"/company/source/quarter/2141/09/2022/\" rel=\"noopener noreferrer\" target=\"_blank\">\\n<i class=\"icon-file-pdf ink-600-link\"></i>\\n</a>\\n</td>\\n<td class=\"hover-link\">\\n<a aria-label=\"Raw PDF\" class=\"plausible-event-name=Quarterly+PDF plausible-event-user=unregistered\" href=\"/company/source/quarter/2141/12/2022/\" rel=\"noopener noreferrer\" target=\"_blank\">\\n<i class=\"icon-file-pdf ink-600-link\"></i>\\n</a>\\n</td>\\n<td class=\"hover-link highlight-cell\">\\n<a aria-label=\"Raw PDF\" class=\"plausible-event-name=Quarterly+PDF plausible-event-user=unregistered\" href=\"/company/source/quarter/2141/03/2023/\" rel=\"noopener noreferrer\" target=\"_blank\">\\n<i class=\"icon-file-pdf ink-600-link\"></i>\\n</a>\\n</td>\\n<td class=\"hover-link\">\\n<a aria-label=\"Raw PDF\" class=\"plausible-event-name=Quarterly+PDF plausible-event-user=unregistered\" href=\"/company/source/quarter/2141/06/2023/\" rel=\"noopener noreferrer\" target=\"_blank\">\\n<i class=\"icon-file-pdf ink-600-link\"></i>\\n</a>\\n</td>\\n<td class=\"hover-link\">\\n<a aria-label=\"Raw PDF\" class=\"plausible-event-name=Quarterly+PDF plausible-event-user=unregistered\" href=\"/company/source/quarter/2141/09/2023/\" rel=\"noopener noreferrer\" target=\"_blank\">\\n<i class=\"icon-file-pdf ink-600-link\"></i>\\n</a>\\n</td>\\n<td class=\"hover-link\">\\n<a aria-label=\"Raw PDF\" class=\"plausible-event-name=Quarterly+PDF plausible-event-user=unregistered\" href=\"/company/source/quarter/2141/12/2023/\" rel=\"noopener noreferrer\" target=\"_blank\">\\n<i class=\"icon-file-pdf ink-600-link\"></i>\\n</a>\\n</td>\\n<td class=\"hover-link highlight-cell\">\\n<a aria-label=\"Raw PDF\" class=\"plausible-event-name=Quarterly+PDF plausible-event-user=unregistered\" href=\"/company/source/quarter/2141/03/2024/\" rel=\"noopener noreferrer\" target=\"_blank\">\\n<i class=\"icon-file-pdf ink-600-link\"></i>\\n</a>\\n</td>\\n</tr>\\n</tbody>\\n</table>\\n</div>\\n</section>\\n<section class=\"card card-large\" id=\"profit-loss\">\\n<div class=\"flex-row flex-space-between flex-gap-16\">\\n<div>\\n<h2>Profit &amp; Loss</h2>\\n<p class=\"sub\" style=\"margin: 0;\">\\n      \\n        Standalone Figures in Rs. Crores\\n        /\\n        <a class=\"strong\" href=\"/company/MRF/consolidated/#profit-loss\">View Consolidated</a>\\n</p>\\n</div>\\n<div class=\"flex flex-gap-8\" style=\"justify-content: flex-end;\\n              align-items: center\">\\n<button class=\"button-small button-secondary plausible-event-name=Related+party plausible-event-user=unregistered\" data-title=\"Related Party Transactions\" data-url=\"/results/rpt/2141/\" onclick=\"Modal.openInModal(event)\">\\n<i class=\"small icon-users\"></i>\\n        Related Party\\n      </button>\\n<button class=\"button-small hidden\" data-segment-button-close=\"\" onclick=\"Segment.closeSegments(\\'profit-loss\\')\">Close Segments</button>\\n<button class=\"button-small button-secondary plausible-event-name=Segment+Results plausible-event-user=unregistered\" data-segment-button=\"1\" onclick=\"Segment.showSegment(\\'profit-loss\\', \\'1\\')\">\\n          Product Segments\\n        </button>\\n</div>\\n</div>\\n<div class=\"responsive-holder hidden\" data-segment-table=\"\"></div>\\n<div class=\"responsive-holder fill-card-width\" data-result-table=\"\">\\n<table class=\"data-table responsive-text-nowrap\">\\n<thead>\\n<tr>\\n<th class=\"text\"></th>\\n<th class=\"\">Sep 2012</th>\\n<th class=\"\">Sep 2013</th>\\n<th class=\"\">Sep 2014</th>\\n<th class=\"\">Mar 2016</th>\\n<th class=\"\">Mar 2017</th>\\n<th class=\"\">Mar 2018</th>\\n<th class=\"\">Mar 2019</th>\\n<th class=\"\">Mar 2020</th>\\n<th class=\"\">Mar 2021</th>\\n<th class=\"\">Mar 2022</th>\\n<th class=\"\">Mar 2023</th>\\n<th class=\"\">Mar 2024</th>\\n</tr>\\n</thead>\\n<tbody>\\n<tr class=\"stripe\">\\n<td class=\"text\">\\n<button class=\"button-plain\" onclick=\"Company.showSchedule(\\'Sales\\', \\'profit-loss\\', this)\">\\n                Sales\\xc2\\xa0<span class=\"blue-icon\">+</span>\\n</button>\\n</td>\\n<td class=\"\">11,867</td>\\n<td class=\"\">12,131</td>\\n<td class=\"\">13,197</td>\\n<td class=\"\">19,887</td>\\n<td class=\"\">13,252</td>\\n<td class=\"\">14,775</td>\\n<td class=\"\">15,836</td>\\n<td class=\"\">15,989</td>\\n<td class=\"\">15,921</td>\\n<td class=\"\">18,989</td>\\n<td class=\"\">22,578</td>\\n<td class=\"\">24,674</td>\\n</tr>\\n<tr class=\"\">\\n<td class=\"text\">\\n<button class=\"button-plain\" onclick=\"Company.showSchedule(\\'Expenses\\', \\'profit-loss\\', this)\">\\n                Expenses\\xc2\\xa0<span class=\"blue-icon\">+</span>\\n</button>\\n</td>\\n<td class=\"\">10,606</td>\\n<td class=\"\">10,364</td>\\n<td class=\"\">11,266</td>\\n<td class=\"\">15,509</td>\\n<td class=\"\">10,652</td>\\n<td class=\"\">12,546</td>\\n<td class=\"\">13,580</td>\\n<td class=\"\">13,659</td>\\n<td class=\"\">13,015</td>\\n<td class=\"\">16,967</td>\\n<td class=\"\">20,227</td>\\n<td class=\"\">20,506</td>\\n</tr>\\n<tr class=\"stripe strong\">\\n<td class=\"text\">\\n            \\n              Operating Profit\\n            \\n          </td>\\n<td class=\"\">1,261</td>\\n<td class=\"\">1,767</td>\\n<td class=\"\">1,931</td>\\n<td class=\"\">4,378</td>\\n<td class=\"\">2,600</td>\\n<td class=\"\">2,229</td>\\n<td class=\"\">2,256</td>\\n<td class=\"\">2,330</td>\\n<td class=\"\">2,906</td>\\n<td class=\"\">2,022</td>\\n<td class=\"\">2,351</td>\\n<td class=\"\">4,168</td>\\n</tr>\\n<tr class=\"\">\\n<td class=\"text\">\\n            \\n              OPM %\\n            \\n          </td>\\n<td class=\"\">11%</td>\\n<td class=\"\">15%</td>\\n<td class=\"\">15%</td>\\n<td class=\"\">22%</td>\\n<td class=\"\">20%</td>\\n<td class=\"\">15%</td>\\n<td class=\"\">14%</td>\\n<td class=\"\">15%</td>\\n<td class=\"\">18%</td>\\n<td class=\"\">11%</td>\\n<td class=\"\">10%</td>\\n<td class=\"\">17%</td>\\n</tr>\\n<tr class=\"stripe\">\\n<td class=\"text\">\\n<button class=\"button-plain\" onclick=\"Company.showSchedule(\\'Other Income\\', \\'profit-loss\\', this)\">\\n                Other Income\\xc2\\xa0<span class=\"blue-icon\">+</span>\\n</button>\\n</td>\\n<td class=\"\">32</td>\\n<td class=\"\">29</td>\\n<td class=\"\">63</td>\\n<td class=\"\">315</td>\\n<td class=\"\">325</td>\\n<td class=\"\">327</td>\\n<td class=\"\">412</td>\\n<td class=\"\">330</td>\\n<td class=\"\">202</td>\\n<td class=\"\">313</td>\\n<td class=\"\">321</td>\\n<td class=\"\">312</td>\\n</tr>\\n<tr class=\"\">\\n<td class=\"text\">\\n            \\n              Interest\\n            \\n          </td>\\n<td class=\"\">159</td>\\n<td class=\"\">196</td>\\n<td class=\"\">232</td>\\n<td class=\"\">352</td>\\n<td class=\"\">250</td>\\n<td class=\"\">250</td>\\n<td class=\"\">253</td>\\n<td class=\"\">281</td>\\n<td class=\"\">271</td>\\n<td class=\"\">255</td>\\n<td class=\"\">304</td>\\n<td class=\"\">316</td>\\n</tr>\\n<tr class=\"stripe\">\\n<td class=\"text\">\\n            \\n              Depreciation\\n            \\n          </td>\\n<td class=\"\">301</td>\\n<td class=\"\">373</td>\\n<td class=\"\">423</td>\\n<td class=\"\">735</td>\\n<td class=\"\">609</td>\\n<td class=\"\">705</td>\\n<td class=\"\">806</td>\\n<td class=\"\">981</td>\\n<td class=\"\">1,137</td>\\n<td class=\"\">1,201</td>\\n<td class=\"\">1,249</td>\\n<td class=\"\">1,425</td>\\n</tr>\\n<tr class=\"strong\">\\n<td class=\"text\">\\n            \\n              Profit before tax\\n            \\n          </td>\\n<td class=\"\">833</td>\\n<td class=\"\">1,227</td>\\n<td class=\"\">1,339</td>\\n<td class=\"\">3,606</td>\\n<td class=\"\">2,066</td>\\n<td class=\"\">1,602</td>\\n<td class=\"\">1,609</td>\\n<td class=\"\">1,399</td>\\n<td class=\"\">1,700</td>\\n<td class=\"\">879</td>\\n<td class=\"\">1,119</td>\\n<td class=\"\">2,739</td>\\n</tr>\\n<tr class=\"stripe\">\\n<td class=\"text\">\\n            \\n              Tax %\\n            \\n          </td>\\n<td class=\"\">31%</td>\\n<td class=\"\">35%</td>\\n<td class=\"\">33%</td>\\n<td class=\"\">31%</td>\\n<td class=\"\">30%</td>\\n<td class=\"\">32%</td>\\n<td class=\"\">32%</td>\\n<td class=\"\">0%</td>\\n<td class=\"\">27%</td>\\n<td class=\"\">26%</td>\\n<td class=\"\">27%</td>\\n<td class=\"\">25%</td>\\n</tr>\\n<tr class=\"strong\">\\n<td class=\"text\">\\n<button class=\"button-plain\" onclick=\"Company.showSchedule(\\'Net Profit\\', \\'profit-loss\\', this)\">\\n                Net Profit\\xc2\\xa0<span class=\"blue-icon\">+</span>\\n</button>\\n</td>\\n<td class=\"\">572</td>\\n<td class=\"\">802</td>\\n<td class=\"\">898</td>\\n<td class=\"\">2,474</td>\\n<td class=\"\">1,451</td>\\n<td class=\"\">1,092</td>\\n<td class=\"\">1,097</td>\\n<td class=\"\">1,395</td>\\n<td class=\"\">1,249</td>\\n<td class=\"\">647</td>\\n<td class=\"\">816</td>\\n<td class=\"\">2,041</td>\\n</tr>\\n<tr class=\"stripe\">\\n<td class=\"text\">\\n            \\n              EPS in Rs\\n            \\n          </td>\\n<td class=\"\">1,349.56</td>\\n<td class=\"\">1,891.51</td>\\n<td class=\"\">2,117.12</td>\\n<td class=\"\">5,833.16</td>\\n<td class=\"\">3,421.47</td>\\n<td class=\"\">2,575.46</td>\\n<td class=\"\">2,586.29</td>\\n<td class=\"\">3,289.19</td>\\n<td class=\"\">2,945.13</td>\\n<td class=\"\">1,526.35</td>\\n<td class=\"\">1,924.57</td>\\n<td class=\"\">4,812.31</td>\\n</tr>\\n<tr class=\"\">\\n<td class=\"text\">\\n            \\n              Dividend Payout %\\n            \\n          </td>\\n<td class=\"\">2%</td>\\n<td class=\"\">2%</td>\\n<td class=\"\">2%</td>\\n<td class=\"\">2%</td>\\n<td class=\"\">2%</td>\\n<td class=\"\">2%</td>\\n<td class=\"\">2%</td>\\n<td class=\"\">3%</td>\\n<td class=\"\">5%</td>\\n<td class=\"\">10%</td>\\n<td class=\"\">9%</td>\\n<td class=\"\">4%</td>\\n</tr>\\n</tbody>\\n</table>\\n</div>\\n<div style=\"display: grid;\\n                  grid-template-columns: repeat(auto-fit, minmax(150px, 1fr));\\n                  gap: 2%\">\\n<table class=\"ranges-table\">\\n<tr>\\n<th colspan=\"2\">Compounded Sales Growth</th>\\n</tr>\\n<tr>\\n<td>10 Years:</td>\\n<td>7%</td>\\n</tr>\\n<tr>\\n<td>5 Years:</td>\\n<td>9%</td>\\n</tr>\\n<tr>\\n<td>3 Years:</td>\\n<td>16%</td>\\n</tr>\\n<tr>\\n<td>TTM:</td>\\n<td>9%</td>\\n</tr>\\n</table>\\n<table class=\"ranges-table\">\\n<tr>\\n<th colspan=\"2\">Compounded Profit Growth</th>\\n</tr>\\n<tr>\\n<td>10 Years:</td>\\n<td>10%</td>\\n</tr>\\n<tr>\\n<td>5 Years:</td>\\n<td>13%</td>\\n</tr>\\n<tr>\\n<td>3 Years:</td>\\n<td>18%</td>\\n</tr>\\n<tr>\\n<td>TTM:</td>\\n<td>197%</td>\\n</tr>\\n</table>\\n<table class=\"ranges-table\">\\n<tr>\\n<th colspan=\"2\">Stock Price CAGR</th>\\n</tr>\\n<tr>\\n<td>10 Years:</td>\\n<td>19%</td>\\n</tr>\\n<tr>\\n<td>5 Years:</td>\\n<td>19%</td>\\n</tr>\\n<tr>\\n<td>3 Years:</td>\\n<td>18%</td>\\n</tr>\\n<tr>\\n<td>1 Year:</td>\\n<td>30%</td>\\n</tr>\\n</table>\\n<table class=\"ranges-table\">\\n<tr>\\n<th colspan=\"2\">Return on Equity</th>\\n</tr>\\n<tr>\\n<td>10 Years:</td>\\n<td>12%</td>\\n</tr>\\n<tr>\\n<td>5 Years:</td>\\n<td>9%</td>\\n</tr>\\n<tr>\\n<td>3 Years:</td>\\n<td>8%</td>\\n</tr>\\n<tr>\\n<td>Last Year:</td>\\n<td>13%</td>\\n</tr>\\n</table>\\n</div>\\n</section>\\n<section class=\"card card-large\" id=\"balance-sheet\">\\n<div class=\"flex-row flex-space-between flex-gap-16\">\\n<div>\\n<h2>Balance Sheet</h2>\\n<p class=\"sub\" style=\"margin: 0;\">\\n      \\n        Standalone Figures in Rs. Crores\\n        /\\n        <a class=\"strong\" href=\"/company/MRF/consolidated/#balance-sheet\">View Consolidated</a>\\n</p>\\n</div>\\n<div class=\"flex flex-gap-8\" style=\"justify-content: flex-end;\\n              align-items: center\">\\n<button class=\"button-small button-secondary plausible-event-name=Corporate+Actions plausible-event-user=unregistered\" data-title=\"Corporate actions\" data-url=\"/company/actions/2141/\" onclick=\"Modal.openInModal(event)\" type=\"button\">Corporate actions</button>\\n</div>\\n</div>\\n<div class=\"responsive-holder fill-card-width\" data-result-table=\"\">\\n<table class=\"data-table responsive-text-nowrap\">\\n<thead>\\n<tr>\\n<th class=\"text\"></th>\\n<th class=\"\">Sep 2012</th>\\n<th class=\"\">Sep 2013</th>\\n<th class=\"\">Sep 2014</th>\\n<th class=\"\">Mar 2016</th>\\n<th class=\"\">Mar 2017</th>\\n<th class=\"\">Mar 2018</th>\\n<th class=\"\">Mar 2019</th>\\n<th class=\"\">Mar 2020</th>\\n<th class=\"\">Mar 2021</th>\\n<th class=\"\">Mar 2022</th>\\n<th class=\"\">Mar 2023</th>\\n<th class=\"\">Mar 2024</th>\\n</tr>\\n</thead>\\n<tbody>\\n<tr class=\"stripe\">\\n<td class=\"text\">\\n            \\n              Equity Capital\\n            \\n          </td>\\n<td class=\"\">4</td>\\n<td class=\"\">4</td>\\n<td class=\"\">4</td>\\n<td class=\"\">4</td>\\n<td class=\"\">4</td>\\n<td class=\"\">4</td>\\n<td class=\"\">4</td>\\n<td class=\"\">4</td>\\n<td class=\"\">4</td>\\n<td class=\"\">4</td>\\n<td class=\"\">4</td>\\n<td class=\"\">4</td>\\n</tr>\\n<tr class=\"\">\\n<td class=\"text\">\\n            \\n              Reserves\\n            \\n          </td>\\n<td class=\"\">2,854</td>\\n<td class=\"\">3,641</td>\\n<td class=\"\">4,513</td>\\n<td class=\"\">7,157</td>\\n<td class=\"\">8,540</td>\\n<td class=\"\">9,600</td>\\n<td class=\"\">10,649</td>\\n<td class=\"\">12,000</td>\\n<td class=\"\">13,175</td>\\n<td class=\"\">13,773</td>\\n<td class=\"\">14,505</td>\\n<td class=\"\">16,436</td>\\n</tr>\\n<tr class=\"stripe\">\\n<td class=\"text\">\\n<button class=\"button-plain\" onclick=\"Company.showSchedule(\\'Borrowings\\', \\'balance-sheet\\', this)\">\\n                Borrowings\\xc2\\xa0<span class=\"blue-icon\">+</span>\\n</button>\\n</td>\\n<td class=\"\">1,708</td>\\n<td class=\"\">1,599</td>\\n<td class=\"\">1,903</td>\\n<td class=\"\">2,067</td>\\n<td class=\"\">2,072</td>\\n<td class=\"\">1,701</td>\\n<td class=\"\">1,868</td>\\n<td class=\"\">1,365</td>\\n<td class=\"\">1,120</td>\\n<td class=\"\">2,415</td>\\n<td class=\"\">2,561</td>\\n<td class=\"\">2,377</td>\\n</tr>\\n<tr class=\"\">\\n<td class=\"text\">\\n<button class=\"button-plain\" onclick=\"Company.showSchedule(\\'Other Liabilities\\', \\'balance-sheet\\', this)\">\\n                Other Liabilities\\xc2\\xa0<span class=\"blue-icon\">+</span>\\n</button>\\n</td>\\n<td class=\"\">2,647</td>\\n<td class=\"\">3,013</td>\\n<td class=\"\">3,377</td>\\n<td class=\"\">3,942</td>\\n<td class=\"\">4,309</td>\\n<td class=\"\">4,997</td>\\n<td class=\"\">5,707</td>\\n<td class=\"\">5,785</td>\\n<td class=\"\">7,961</td>\\n<td class=\"\">6,501</td>\\n<td class=\"\">6,954</td>\\n<td class=\"\">7,597</td>\\n</tr>\\n<tr class=\"stripe strong\">\\n<td class=\"text\">\\n            \\n              Total Liabilities\\n            \\n          </td>\\n<td class=\"\">7,212</td>\\n<td class=\"\">8,257</td>\\n<td class=\"\">9,797</td>\\n<td class=\"\">13,170</td>\\n<td class=\"\">14,925</td>\\n<td class=\"\">16,302</td>\\n<td class=\"\">18,228</td>\\n<td class=\"\">19,154</td>\\n<td class=\"\">22,260</td>\\n<td class=\"\">22,693</td>\\n<td class=\"\">24,024</td>\\n<td class=\"\">26,415</td>\\n</tr>\\n<tr class=\"\">\\n<td class=\"text\">\\n<button class=\"button-plain\" onclick=\"Company.showSchedule(\\'Fixed Assets\\', \\'balance-sheet\\', this)\">\\n                Fixed Assets\\xc2\\xa0<span class=\"blue-icon\">+</span>\\n</button>\\n</td>\\n<td class=\"\">2,914</td>\\n<td class=\"\">2,970</td>\\n<td class=\"\">3,429</td>\\n<td class=\"\">4,594</td>\\n<td class=\"\">5,488</td>\\n<td class=\"\">6,075</td>\\n<td class=\"\">6,768</td>\\n<td class=\"\">8,849</td>\\n<td class=\"\">9,391</td>\\n<td class=\"\">9,466</td>\\n<td class=\"\">10,050</td>\\n<td class=\"\">11,977</td>\\n</tr>\\n<tr class=\"stripe\">\\n<td class=\"text\">\\n            \\n              CWIP\\n            \\n          </td>\\n<td class=\"\">415</td>\\n<td class=\"\">359</td>\\n<td class=\"\">627</td>\\n<td class=\"\">1,058</td>\\n<td class=\"\">847</td>\\n<td class=\"\">1,079</td>\\n<td class=\"\">1,403</td>\\n<td class=\"\">1,735</td>\\n<td class=\"\">1,001</td>\\n<td class=\"\">1,226</td>\\n<td class=\"\">3,045</td>\\n<td class=\"\">2,363</td>\\n</tr>\\n<tr class=\"\">\\n<td class=\"text\">\\n            \\n              Investments\\n            \\n          </td>\\n<td class=\"\">425</td>\\n<td class=\"\">906</td>\\n<td class=\"\">1,088</td>\\n<td class=\"\">3,147</td>\\n<td class=\"\">3,394</td>\\n<td class=\"\">4,146</td>\\n<td class=\"\">3,848</td>\\n<td class=\"\">1,540</td>\\n<td class=\"\">5,876</td>\\n<td class=\"\">3,665</td>\\n<td class=\"\">3,106</td>\\n<td class=\"\">3,404</td>\\n</tr>\\n<tr class=\"stripe\">\\n<td class=\"text\">\\n<button class=\"button-plain\" onclick=\"Company.showSchedule(\\'Other Assets\\', \\'balance-sheet\\', this)\">\\n                Other Assets\\xc2\\xa0<span class=\"blue-icon\">+</span>\\n</button>\\n</td>\\n<td class=\"\">3,459</td>\\n<td class=\"\">4,023</td>\\n<td class=\"\">4,654</td>\\n<td class=\"\">4,370</td>\\n<td class=\"\">5,196</td>\\n<td class=\"\">5,001</td>\\n<td class=\"\">6,209</td>\\n<td class=\"\">7,030</td>\\n<td class=\"\">5,991</td>\\n<td class=\"\">8,336</td>\\n<td class=\"\">7,823</td>\\n<td class=\"\">8,671</td>\\n</tr>\\n<tr class=\"strong\">\\n<td class=\"text\">\\n            \\n              Total Assets\\n            \\n          </td>\\n<td class=\"\">7,212</td>\\n<td class=\"\">8,257</td>\\n<td class=\"\">9,797</td>\\n<td class=\"\">13,170</td>\\n<td class=\"\">14,925</td>\\n<td class=\"\">16,302</td>\\n<td class=\"\">18,228</td>\\n<td class=\"\">19,154</td>\\n<td class=\"\">22,260</td>\\n<td class=\"\">22,693</td>\\n<td class=\"\">24,024</td>\\n<td class=\"\">26,415</td>\\n</tr>\\n</tbody>\\n</table>\\n</div>\\n</section>\\n<section class=\"card card-large\" id=\"cash-flow\">\\n<div class=\"flex-row flex-space-between flex-gap-16\">\\n<div>\\n<h2>Cash Flows</h2>\\n<p class=\"sub\" style=\"margin: 0;\">\\n      \\n        Standalone Figures in Rs. Crores\\n        /\\n        <a class=\"strong\" href=\"/company/MRF/consolidated/#cash-flow\">View Consolidated</a>\\n</p>\\n</div>\\n<div class=\"flex flex-gap-8\" style=\"justify-content: flex-end;\\n              align-items: center\">\\n</div>\\n</div>\\n<div class=\"responsive-holder fill-card-width\" data-result-table=\"\">\\n<table class=\"data-table responsive-text-nowrap\">\\n<thead>\\n<tr>\\n<th class=\"text\"></th>\\n<th class=\"\">Sep 2012</th>\\n<th class=\"\">Sep 2013</th>\\n<th class=\"\">Sep 2014</th>\\n<th class=\"\">Mar 2016</th>\\n<th class=\"\">Mar 2017</th>\\n<th class=\"\">Mar 2018</th>\\n<th class=\"\">Mar 2019</th>\\n<th class=\"\">Mar 2020</th>\\n<th class=\"\">Mar 2021</th>\\n<th class=\"\">Mar 2022</th>\\n<th class=\"\">Mar 2023</th>\\n<th class=\"\">Mar 2024</th>\\n</tr>\\n</thead>\\n<tbody>\\n<tr class=\"stripe\">\\n<td class=\"text\">\\n<button class=\"button-plain\" onclick=\"Company.showSchedule(\\'Cash from Operating Activity\\', \\'cash-flow\\', this)\">\\n                Cash from Operating Activity\\xc2\\xa0<span class=\"blue-icon\">+</span>\\n</button>\\n</td>\\n<td class=\"\">1,023</td>\\n<td class=\"\">1,476</td>\\n<td class=\"\">1,687</td>\\n<td class=\"\">3,407</td>\\n<td class=\"\">1,790</td>\\n<td class=\"\">2,529</td>\\n<td class=\"\">1,380</td>\\n<td class=\"\">2,079</td>\\n<td class=\"\">4,687</td>\\n<td class=\"\">-657</td>\\n<td class=\"\">2,417</td>\\n<td class=\"\">3,227</td>\\n</tr>\\n<tr class=\"\">\\n<td class=\"text\">\\n<button class=\"button-plain\" onclick=\"Company.showSchedule(\\'Cash from Investing Activity\\', \\'cash-flow\\', this)\">\\n                Cash from Investing Activity\\xc2\\xa0<span class=\"blue-icon\">+</span>\\n</button>\\n</td>\\n<td class=\"\">-966</td>\\n<td class=\"\">-937</td>\\n<td class=\"\">-1,785</td>\\n<td class=\"\">-3,406</td>\\n<td class=\"\">-1,394</td>\\n<td class=\"\">-1,970</td>\\n<td class=\"\">-1,310</td>\\n<td class=\"\">-168</td>\\n<td class=\"\">-5,063</td>\\n<td class=\"\">177</td>\\n<td class=\"\">-1,927</td>\\n<td class=\"\">-2,316</td>\\n</tr>\\n<tr class=\"stripe\">\\n<td class=\"text\">\\n<button class=\"button-plain\" onclick=\"Company.showSchedule(\\'Cash from Financing Activity\\', \\'cash-flow\\', this)\">\\n                Cash from Financing Activity\\xc2\\xa0<span class=\"blue-icon\">+</span>\\n</button>\\n</td>\\n<td class=\"\">-51</td>\\n<td class=\"\">-313</td>\\n<td class=\"\">67</td>\\n<td class=\"\">-179</td>\\n<td class=\"\">-295</td>\\n<td class=\"\">-639</td>\\n<td class=\"\">-112</td>\\n<td class=\"\">-864</td>\\n<td class=\"\">-625</td>\\n<td class=\"\">491</td>\\n<td class=\"\">-457</td>\\n<td class=\"\">-823</td>\\n</tr>\\n<tr class=\"strong\">\\n<td class=\"text\">\\n            \\n              Net Cash Flow\\n            \\n          </td>\\n<td class=\"\">5</td>\\n<td class=\"\">226</td>\\n<td class=\"\">-31</td>\\n<td class=\"\">-178</td>\\n<td class=\"\">101</td>\\n<td class=\"\">-80</td>\\n<td class=\"\">-41</td>\\n<td class=\"\">1,047</td>\\n<td class=\"\">-1,001</td>\\n<td class=\"\">10</td>\\n<td class=\"\">33</td>\\n<td class=\"\">88</td>\\n</tr>\\n</tbody>\\n</table>\\n</div>\\n</section>\\n<section class=\"card card-large\" id=\"ratios\">\\n<div class=\"flex-row flex-space-between flex-gap-16\">\\n<div>\\n<h2>Ratios</h2>\\n<p class=\"sub\" style=\"margin: 0;\">\\n      \\n        Standalone Figures in Rs. Crores\\n        /\\n        <a class=\"strong\" href=\"/company/MRF/consolidated/#ratios\">View Consolidated</a>\\n</p>\\n</div>\\n<div class=\"flex flex-gap-8\" style=\"justify-content: flex-end;\\n              align-items: center\">\\n</div>\\n</div>\\n<div class=\"responsive-holder fill-card-width\" data-result-table=\"\">\\n<table class=\"data-table responsive-text-nowrap\">\\n<thead>\\n<tr>\\n<th class=\"text\"></th>\\n<th class=\"\">Sep 2012</th>\\n<th class=\"\">Sep 2013</th>\\n<th class=\"\">Sep 2014</th>\\n<th class=\"\">Mar 2016</th>\\n<th class=\"\">Mar 2017</th>\\n<th class=\"\">Mar 2018</th>\\n<th class=\"\">Mar 2019</th>\\n<th class=\"\">Mar 2020</th>\\n<th class=\"\">Mar 2021</th>\\n<th class=\"\">Mar 2022</th>\\n<th class=\"\">Mar 2023</th>\\n<th class=\"\">Mar 2024</th>\\n</tr>\\n</thead>\\n<tbody>\\n<tr class=\"stripe\">\\n<td class=\"text\">\\n            \\n              Debtor Days\\n            \\n          </td>\\n<td class=\"\">45</td>\\n<td class=\"\">47</td>\\n<td class=\"\">47</td>\\n<td class=\"\">34</td>\\n<td class=\"\">54</td>\\n<td class=\"\">53</td>\\n<td class=\"\">54</td>\\n<td class=\"\">52</td>\\n<td class=\"\">51</td>\\n<td class=\"\">44</td>\\n<td class=\"\">39</td>\\n<td class=\"\">42</td>\\n</tr>\\n<tr class=\"\">\\n<td class=\"text\">\\n            \\n              Inventory Days\\n            \\n          </td>\\n<td class=\"\">72</td>\\n<td class=\"\">83</td>\\n<td class=\"\">78</td>\\n<td class=\"\">61</td>\\n<td class=\"\">116</td>\\n<td class=\"\">87</td>\\n<td class=\"\">112</td>\\n<td class=\"\">110</td>\\n<td class=\"\">114</td>\\n<td class=\"\">119</td>\\n<td class=\"\">97</td>\\n<td class=\"\">107</td>\\n</tr>\\n<tr class=\"stripe\">\\n<td class=\"text\">\\n            \\n              Days Payable\\n            \\n          </td>\\n<td class=\"\">41</td>\\n<td class=\"\">47</td>\\n<td class=\"\">50</td>\\n<td class=\"\">50</td>\\n<td class=\"\">82</td>\\n<td class=\"\">80</td>\\n<td class=\"\">88</td>\\n<td class=\"\">90</td>\\n<td class=\"\">168</td>\\n<td class=\"\">81</td>\\n<td class=\"\">66</td>\\n<td class=\"\">72</td>\\n</tr>\\n<tr class=\"strong\">\\n<td class=\"text\">\\n            \\n              Cash Conversion Cycle\\n            \\n          </td>\\n<td class=\"\">76</td>\\n<td class=\"\">83</td>\\n<td class=\"\">76</td>\\n<td class=\"\">45</td>\\n<td class=\"\">89</td>\\n<td class=\"\">60</td>\\n<td class=\"\">78</td>\\n<td class=\"\">71</td>\\n<td class=\"\">-3</td>\\n<td class=\"\">82</td>\\n<td class=\"\">70</td>\\n<td class=\"\">77</td>\\n</tr>\\n<tr class=\"stripe\">\\n<td class=\"text\">\\n            \\n              Working Capital Days\\n            \\n          </td>\\n<td class=\"\">54</td>\\n<td class=\"\">50</td>\\n<td class=\"\">47</td>\\n<td class=\"\">10</td>\\n<td class=\"\">19</td>\\n<td class=\"\">5</td>\\n<td class=\"\">11</td>\\n<td class=\"\">9</td>\\n<td class=\"\">-42</td>\\n<td class=\"\">33</td>\\n<td class=\"\">11</td>\\n<td class=\"\">51</td>\\n</tr>\\n<tr class=\"\">\\n<td class=\"text\">\\n            \\n              ROCE %\\n            \\n          </td>\\n<td class=\"\">23%</td>\\n<td class=\"\">29%</td>\\n<td class=\"\">27%</td>\\n<td class=\"\">50%</td>\\n<td class=\"\">23%</td>\\n<td class=\"\">17%</td>\\n<td class=\"\">16%</td>\\n<td class=\"\">13%</td>\\n<td class=\"\">14%</td>\\n<td class=\"\">6%</td>\\n<td class=\"\">7%</td>\\n<td class=\"\"></td>\\n</tr>\\n</tbody>\\n</table>\\n</div>\\n</section>\\n<section class=\"card card-large\" id=\"shareholding\">\\n<div class=\"flex flex-space-between flex-wrap margin-bottom-8 flex-align-center\">\\n<div>\\n<h2 class=\"margin-0\">Shareholding Pattern</h2>\\n<p class=\"sub\">Numbers in percentages</p>\\n</div>\\n<div class=\"flex\">\\n<div class=\"options small margin-0\">\\n<button class=\"active\" data-tab-id=\"quarterly-shp\" onclick=\"Utils.setActiveTab(event)\" type=\"button\">\\n        Quarterly\\n      </button>\\n<button data-tab-id=\"yearly-shp\" onclick=\"Utils.setActiveTab(event)\" type=\"button\">\\n        Yearly\\n      </button>\\n</div>\\n<div class=\"text-align-center margin-left-12\">\\n<button class=\"button-secondary button-small\" data-title=\"MRF trades\" data-url=\"/trades/company-2141/\" onclick=\"Modal.openInModal(event)\" type=\"button\">\\n        Trades\\n      </button>\\n</div>\\n</div>\\n</div>\\n<div id=\"quarterly-shp\">\\n<div class=\"responsive-holder fill-card-width\">\\n<table class=\"data-table\">\\n<thead>\\n<tr>\\n<th class=\"text\"></th>\\n<th>Jun 2021</th><th>Sep 2021</th><th>Dec 2021</th><th>Mar 2022</th><th>Jun 2022</th><th>Sep 2022</th><th>Dec 2022</th><th>Mar 2023</th><th>Jun 2023</th><th>Sep 2023</th><th>Dec 2023</th><th>Mar 2024</th>\\n</tr>\\n</thead>\\n<tbody>\\n<tr class=\"stripe\">\\n<td class=\"text\">\\n<button class=\"button-plain plausible-event-name=View+Shareholders plausible-event-user=unregistered plausible-event-classification=promoters plausible-event-period=quarterly\" onclick=\"Company.showShareholders(\\'promoters\\', \\'quarterly\\', this)\">\\n                Promoters\\xc2\\xa0<span class=\"blue-icon\">+</span>\\n</button>\\n</td>\\n<td>27.82%</td>\\n<td>27.84%</td>\\n<td>27.90%</td>\\n<td>27.95%</td>\\n<td>27.94%</td>\\n<td>27.87%</td>\\n<td>27.88%</td>\\n<td>27.85%</td>\\n<td>27.77%</td>\\n<td>27.75%</td>\\n<td>27.76%</td>\\n<td>27.78%</td>\\n</tr>\\n<tr class=\"\">\\n<td class=\"text\">\\n<button class=\"button-plain plausible-event-name=View+Shareholders plausible-event-user=unregistered plausible-event-classification=foreign_institutions plausible-event-period=quarterly\" onclick=\"Company.showShareholders(\\'foreign_institutions\\', \\'quarterly\\', this)\">\\n                FIIs\\xc2\\xa0<span class=\"blue-icon\">+</span>\\n</button>\\n</td>\\n<td>14.07%</td>\\n<td>14.77%</td>\\n<td>14.58%</td>\\n<td>15.54%</td>\\n<td>16.05%</td>\\n<td>16.46%</td>\\n<td>18.22%</td>\\n<td>18.05%</td>\\n<td>18.77%</td>\\n<td>19.58%</td>\\n<td>19.41%</td>\\n<td>19.75%</td>\\n</tr>\\n<tr class=\"stripe\">\\n<td class=\"text\">\\n<button class=\"button-plain plausible-event-name=View+Shareholders plausible-event-user=unregistered plausible-event-classification=domestic_institutions plausible-event-period=quarterly\" onclick=\"Company.showShareholders(\\'domestic_institutions\\', \\'quarterly\\', this)\">\\n                DIIs\\xc2\\xa0<span class=\"blue-icon\">+</span>\\n</button>\\n</td>\\n<td>13.65%</td>\\n<td>12.96%</td>\\n<td>12.91%</td>\\n<td>11.73%</td>\\n<td>12.46%</td>\\n<td>12.49%</td>\\n<td>11.37%</td>\\n<td>11.65%</td>\\n<td>11.71%</td>\\n<td>11.19%</td>\\n<td>11.45%</td>\\n<td>10.57%</td>\\n</tr>\\n<tr class=\"\">\\n<td class=\"text\">\\n<button class=\"button-plain plausible-event-name=View+Shareholders plausible-event-user=unregistered plausible-event-classification=public plausible-event-period=quarterly\" onclick=\"Company.showShareholders(\\'public\\', \\'quarterly\\', this)\">\\n                Public\\xc2\\xa0<span class=\"blue-icon\">+</span>\\n</button>\\n</td>\\n<td>44.46%</td>\\n<td>44.43%</td>\\n<td>44.61%</td>\\n<td>44.79%</td>\\n<td>43.55%</td>\\n<td>43.18%</td>\\n<td>42.53%</td>\\n<td>42.45%</td>\\n<td>41.75%</td>\\n<td>41.48%</td>\\n<td>41.39%</td>\\n<td>41.92%</td>\\n</tr>\\n<tr class=\"sub\">\\n<td class=\"text\">No. of Shareholders</td>\\n<td>55,803</td><td>54,446</td><td>62,406</td><td>66,786</td><td>56,544</td><td>48,377</td><td>41,881</td><td>43,500</td><td>37,938</td><td>37,504</td><td>37,584</td><td>47,663</td>\\n</tr>\\n</tbody>\\n</table>\\n</div>\\n</div>\\n<div class=\"hidden\" id=\"yearly-shp\">\\n<div class=\"responsive-holder fill-card-width\">\\n<table class=\"data-table\">\\n<thead>\\n<tr>\\n<th class=\"text\"></th>\\n<th>Mar 2017</th><th>Mar 2018</th><th>Mar 2019</th><th>Mar 2020</th><th>Mar 2021</th><th>Mar 2022</th><th>Mar 2023</th><th>Mar 2024</th>\\n</tr>\\n</thead>\\n<tbody>\\n<tr class=\"stripe\">\\n<td class=\"text\">\\n<button class=\"button-plain plausible-event-name=View+Shareholders plausible-event-user=unregistered plausible-event-classification=promoters plausible-event-period=yearly\" onclick=\"Company.showShareholders(\\'promoters\\', \\'yearly\\', this)\">\\n                Promoters\\xc2\\xa0<span class=\"blue-icon\">+</span>\\n</button>\\n</td>\\n<td>27.37%</td>\\n<td>27.54%</td>\\n<td>27.74%</td>\\n<td>27.88%</td>\\n<td>27.84%</td>\\n<td>27.95%</td>\\n<td>27.85%</td>\\n<td>27.78%</td>\\n</tr>\\n<tr class=\"\">\\n<td class=\"text\">\\n<button class=\"button-plain plausible-event-name=View+Shareholders plausible-event-user=unregistered plausible-event-classification=foreign_institutions plausible-event-period=yearly\" onclick=\"Company.showShareholders(\\'foreign_institutions\\', \\'yearly\\', this)\">\\n                FIIs\\xc2\\xa0<span class=\"blue-icon\">+</span>\\n</button>\\n</td>\\n<td>10.07%</td>\\n<td>7.99%</td>\\n<td>6.11%</td>\\n<td>5.24%</td>\\n<td>13.48%</td>\\n<td>15.54%</td>\\n<td>18.05%</td>\\n<td>19.75%</td>\\n</tr>\\n<tr class=\"stripe\">\\n<td class=\"text\">\\n<button class=\"button-plain plausible-event-name=View+Shareholders plausible-event-user=unregistered plausible-event-classification=domestic_institutions plausible-event-period=yearly\" onclick=\"Company.showShareholders(\\'domestic_institutions\\', \\'yearly\\', this)\">\\n                DIIs\\xc2\\xa0<span class=\"blue-icon\">+</span>\\n</button>\\n</td>\\n<td>10.52%</td>\\n<td>13.46%</td>\\n<td>15.37%</td>\\n<td>17.77%</td>\\n<td>14.28%</td>\\n<td>11.73%</td>\\n<td>11.65%</td>\\n<td>10.57%</td>\\n</tr>\\n<tr class=\"\">\\n<td class=\"text\">\\n<button class=\"button-plain plausible-event-name=View+Shareholders plausible-event-user=unregistered plausible-event-classification=public plausible-event-period=yearly\" onclick=\"Company.showShareholders(\\'public\\', \\'yearly\\', this)\">\\n                Public\\xc2\\xa0<span class=\"blue-icon\">+</span>\\n</button>\\n</td>\\n<td>52.04%</td>\\n<td>51.01%</td>\\n<td>50.79%</td>\\n<td>49.11%</td>\\n<td>44.40%</td>\\n<td>44.79%</td>\\n<td>42.45%</td>\\n<td>41.92%</td>\\n</tr>\\n<tr class=\"sub\">\\n<td class=\"text\">No. of Shareholders</td>\\n<td>38,782</td><td>46,283</td><td>61,429</td><td>63,243</td><td>50,630</td><td>66,786</td><td>43,500</td><td>47,663</td>\\n</tr>\\n</tbody>\\n</table>\\n</div>\\n</div>\\n<p class=\"sub small\">\\n  * The classifications might have changed from Sep\\'2022 onwards.\\n  <span class=\"has-tooltip\">\\n<i class=\"icon-info\"></i>\\n<span class=\"tooltip\" style=\"width: 300px\">\\n      The new XBRL format added more details from Sep\\'22 onwards.\\n      <br/>\\n<br/>\\n      Classifications such as banks and foreign portfolio investors were not available earlier. The sudden changes in FII or DII can be because of these changes.\\n      <br/>\\n<br/>\\n      Click on the line-items to see the names of individual entities.\\n    </span>\\n</span>\\n</p>\\n</section>\\n<section class=\"card card-large\" id=\"documents\">\\n<div class=\"flex flex-space-between margin-bottom-16\">\\n<h2 class=\"margin-0\">Documents</h2>\\n</div>\\n<div class=\"flex-row flex-gap-small\">\\n<div class=\"documents flex-column\" style=\"flex: 2 1 250px;\">\\n<h3 class=\"margin-bottom-8\">Announcements</h3>\\n<div class=\"show-more-box\" style=\"flex-basis: 300px\">\\n<div id=\"company-announcements-tab\">\\n<div class=\"flex\">\\n<div class=\"options small\" style=\"margin-bottom: 0\">\\n<button class=\"active\" data-swap=\"#company-announcements-tab\" onclick=\"Utils.ajaxLoad(event, \\'/announcements/recent/2141/\\')\" type=\"button\">\\n      Recent\\n    </button>\\n<button data-swap=\"#company-announcements-tab\" onclick=\"Utils.ajaxLoad(event, \\'/announcements/important/2141/\\')\" type=\"button\">\\n      Important\\n    </button>\\n<button data-swap=\"#company-announcements-tab\" onclick=\"Utils.ajaxLoad(event, \\'/announcements/search/2141/\\')\" type=\"button\">\\n      Search\\n    </button>\\n<a class=\"button\" href=\"https://www.bseindia.com/stock-share-price/mrf-ltd/mrf/500290/corp-announcements/\" rel=\"noopener noreferrer\" target=\"_blank\">\\n      All\\n      <i class=\"icon-link-ext smaller\"></i>\\n</a>\\n</div>\\n</div>\\n<ul class=\"list-links\">\\n<li class=\"overflow-wrap-anywhere\">\\n<a href=\"https://www.bseindia.com/stockinfo/AnnPdfOpen.aspx?Pname=c6645d96-0920-4e9b-89e6-bc133eae5cac.pdf\" rel=\"noopener noreferrer\" target=\"_blank\">\\n          Announcement under Regulation 30 (LODR)-Press Release / Media Release\\n\\n          \\n            <span class=\"ink-600 smaller\">3 May</span>\\n</a>\\n</li>\\n<li class=\"overflow-wrap-anywhere\">\\n<a href=\"https://www.bseindia.com/stockinfo/AnnPdfOpen.aspx?Pname=2aaa8612-bc53-4443-805e-bff211a1e824.pdf\" rel=\"noopener noreferrer\" target=\"_blank\">\\n          Security Cover Certificate\\n\\n          \\n            <span class=\"ink-600 smaller\">3 May</span>\\n</a>\\n</li>\\n<li class=\"overflow-wrap-anywhere\">\\n<a href=\"https://www.bseindia.com/stockinfo/AnnPdfOpen.aspx?Pname=efd618f6-1fde-4c6e-a656-fc4147c78efb.pdf\" rel=\"noopener noreferrer\" target=\"_blank\">\\n          Board Meeting Outcome for Declaration Of Final Dividend For The Financial Year Ended 31.03.2024\\n\\n          \\n            <span class=\"ink-600 smaller\">3 May</span>\\n</a>\\n</li>\\n<li class=\"overflow-wrap-anywhere\">\\n<a href=\"https://www.bseindia.com/stockinfo/AnnPdfOpen.aspx?Pname=6c5725cd-0cf1-4a2a-a855-a69329666ef8.pdf\" rel=\"noopener noreferrer\" target=\"_blank\">\\n          Audited Financial Results (Standalone And Consolidated) For The Year Ended 31St March,2024\\n\\n          \\n            <span class=\"ink-600 smaller\">3 May</span>\\n</a>\\n</li>\\n<li class=\"overflow-wrap-anywhere\">\\n<a href=\"https://www.bseindia.com/stockinfo/AnnPdfOpen.aspx?Pname=8a455301-adfe-4650-9a07-540a73c44883.pdf\" rel=\"noopener noreferrer\" target=\"_blank\">\\n          Compliances-Reg. 39 (3) - Details of Loss of Certificate / Duplicate Certificate\\n\\n          \\n            <span class=\"ink-600 smaller\">30 Apr</span>\\n</a>\\n</li>\\n</ul>\\n</div>\\n</div>\\n</div>\\n<div class=\"documents annual-reports flex-column\" style=\"flex: 1 1 200px;\\n                    max-width: 210px\">\\n<h3>Annual reports</h3>\\n<div class=\"show-more-box\">\\n<ul class=\"list-links\">\\n<li>\\n<a class=\"plausible-event-name=Annual+Report plausible-event-user=unregistered\" href=\"https://www.bseindia.com/stockinfo/AnnPdfOpen.aspx?Pname=\\\\8cfa5007-26b2-40f3-aa14-6e4d908abc63.pdf\" rel=\"noopener noreferrer\" target=\"_blank\">\\n      Financial Year 2023\\n      <div class=\"ink-600 smaller\">\\n        from bse\\n      </div>\\n</a>\\n</li>\\n<li>\\n<a class=\"plausible-event-name=Annual+Report plausible-event-user=unregistered\" href=\"https://www.bseindia.com/bseplus/AnnualReport/500290/73600500290.pdf\" rel=\"noopener noreferrer\" target=\"_blank\">\\n      Financial Year 2022\\n      <div class=\"ink-600 smaller\">\\n        from bse\\n      </div>\\n</a>\\n</li>\\n<li>\\n<a class=\"plausible-event-name=Annual+Report plausible-event-user=unregistered\" href=\"https://www.bseindia.com/bseplus/AnnualReport/500290/69039500290.pdf\" rel=\"noopener noreferrer\" target=\"_blank\">\\n      Financial Year 2021\\n      <div class=\"ink-600 smaller\">\\n        from bse\\n      </div>\\n</a>\\n</li>\\n<li>\\n<a class=\"plausible-event-name=Annual+Report plausible-event-user=unregistered\" href=\"https://www.bseindia.com/bseplus/AnnualReport/500290/65323500290.pdf\" rel=\"noopener noreferrer\" target=\"_blank\">\\n      Financial Year 2020\\n      <div class=\"ink-600 smaller\">\\n        from bse\\n      </div>\\n</a>\\n</li>\\n<li>\\n<a class=\"plausible-event-name=Annual+Report plausible-event-user=unregistered\" href=\"https://www.bseindia.com/bseplus/AnnualReport/500290/5002900319.pdf\" rel=\"noopener noreferrer\" target=\"_blank\">\\n      Financial Year 2019\\n      <div class=\"ink-600 smaller\">\\n        from bse\\n      </div>\\n</a>\\n</li>\\n<li>\\n<a class=\"plausible-event-name=Annual+Report plausible-event-user=unregistered\" href=\"https://www.bseindia.com/bseplus/AnnualReport/500290/5002900318.pdf\" rel=\"noopener noreferrer\" target=\"_blank\">\\n      Financial Year 2018\\n      <div class=\"ink-600 smaller\">\\n        from bse\\n      </div>\\n</a>\\n</li>\\n<li>\\n<a class=\"plausible-event-name=Annual+Report plausible-event-user=unregistered\" href=\"https://www.bseindia.com/bseplus/AnnualReport/500290/5002900317.pdf\" rel=\"noopener noreferrer\" target=\"_blank\">\\n      Financial Year 2017\\n      <div class=\"ink-600 smaller\">\\n        from bse\\n      </div>\\n</a>\\n</li>\\n<li>\\n<a class=\"plausible-event-name=Annual+Report plausible-event-user=unregistered\" href=\"https://www.bseindia.com/bseplus/AnnualReport/500290/5002900316.pdf\" rel=\"noopener noreferrer\" target=\"_blank\">\\n      Financial Year 2016\\n      <div class=\"ink-600 smaller\">\\n        from bse\\n      </div>\\n</a>\\n</li>\\n<li>\\n<a class=\"plausible-event-name=Annual+Report plausible-event-user=unregistered\" href=\"https://www.bseindia.com/bseplus/AnnualReport/500290/5002900914.pdf\" rel=\"noopener noreferrer\" target=\"_blank\">\\n      Financial Year 2014\\n      <div class=\"ink-600 smaller\">\\n        from bse\\n      </div>\\n</a>\\n</li>\\n<li>\\n<a class=\"plausible-event-name=Annual+Report plausible-event-user=unregistered\" href=\"https://www.bseindia.com/bseplus/AnnualReport/500290/5002900913.pdf\" rel=\"noopener noreferrer\" target=\"_blank\">\\n      Financial Year 2013\\n      <div class=\"ink-600 smaller\">\\n        from bse\\n      </div>\\n</a>\\n</li>\\n<li>\\n<a class=\"plausible-event-name=Annual+Report plausible-event-user=unregistered\" href=\"https://www.bseindia.com/bseplus/AnnualReport/500290/5002900912.pdf\" rel=\"noopener noreferrer\" target=\"_blank\">\\n      Financial Year 2012\\n      <div class=\"ink-600 smaller\">\\n        from bse\\n      </div>\\n</a>\\n</li>\\n<li>\\n<a class=\"plausible-event-name=Annual+Report plausible-event-user=unregistered\" href=\"https://www.bseindia.com/bseplus/AnnualReport/500290/5002900911.pdf\" rel=\"noopener noreferrer\" target=\"_blank\">\\n      Financial Year 2011\\n      <div class=\"ink-600 smaller\">\\n        from bse\\n      </div>\\n</a>\\n</li>\\n<li>\\n<a class=\"plausible-event-name=Annual+Report plausible-event-user=unregistered\" href=\"https://archives.nseindia.com/annual_reports/AR_MRF_2010_2011_29032012102535.zip\" rel=\"noopener noreferrer\" target=\"_blank\">\\n      Financial Year 2011\\n      <div class=\"ink-600 smaller\">\\n        from nse\\n      </div>\\n</a>\\n</li>\\n<li>\\n<a class=\"plausible-event-name=Annual+Report plausible-event-user=unregistered\" href=\"https://www.bseindia.com/bseplus/AnnualReport/500290/5002900910.pdf\" rel=\"noopener noreferrer\" target=\"_blank\">\\n      Financial Year 2010\\n      <div class=\"ink-600 smaller\">\\n        from bse\\n      </div>\\n</a>\\n</li>\\n<li>\\n<a class=\"plausible-event-name=Annual+Report plausible-event-user=unregistered\" href=\"https://archives.nseindia.com/annual_reports/AR_MRF_2009_2010_01072011102626.zip\" rel=\"noopener noreferrer\" target=\"_blank\">\\n      Financial Year 2010\\n      <div class=\"ink-600 smaller\">\\n        from nse\\n      </div>\\n</a>\\n</li>\\n</ul>\\n</div>\\n</div>\\n<div class=\"documents credit-ratings flex-column\" style=\"flex: 1 1 200px;\\n                      max-width: 220px\">\\n<h3>Credit ratings</h3>\\n<div class=\"show-more-box\">\\n<ul class=\"list-links\">\\n<li>\\n<a class=\"plausible-event-name=Credit+Rating plausible-event-user=unregistered\" href=\"https://www.careratings.com/upload/CompanyFiles/PR/202310131023_MRF_Limited.pdf\" rel=\"noopener noreferrer\" target=\"_blank\">\\n      Rating update\\n      <div class=\"ink-600 smaller\">\\n        4 Oct 2023 from care\\n      </div>\\n</a>\\n</li>\\n<li>\\n<a class=\"plausible-event-name=Credit+Rating plausible-event-user=unregistered\" href=\"https://www.careratings.com/upload/CompanyFiles/PR/17102022063250_MRF_Limited.pdf\" rel=\"noopener noreferrer\" target=\"_blank\">\\n      Rating update\\n      <div class=\"ink-600 smaller\">\\n        17 Oct 2022 from care\\n      </div>\\n</a>\\n</li>\\n<li>\\n<a class=\"plausible-event-name=Credit+Rating plausible-event-user=unregistered\" href=\"https://www.careratings.com/upload/CompanyFiles/PR/06102022061948_MRF_Limited.pdf\" rel=\"noopener noreferrer\" target=\"_blank\">\\n      Rating update\\n      <div class=\"ink-600 smaller\">\\n        6 Oct 2022 from care\\n      </div>\\n</a>\\n</li>\\n<li>\\n<a class=\"plausible-event-name=Credit+Rating plausible-event-user=unregistered\" href=\"https://www.icra.in/Rationale/ShowRationaleReport/?Id=108388\" rel=\"noopener noreferrer\" target=\"_blank\">\\n      Rating update\\n      <div class=\"ink-600 smaller\">\\n        30 Nov 2021 from icra\\n      </div>\\n</a>\\n</li>\\n<li>\\n<a class=\"plausible-event-name=Credit+Rating plausible-event-user=unregistered\" href=\"https://www.careratings.com/upload/CompanyFiles/PR/29092021082534_MRF_Limited.pdf\" rel=\"noopener noreferrer\" target=\"_blank\">\\n      Rating update\\n      <div class=\"ink-600 smaller\">\\n        29 Sep 2021 from care\\n      </div>\\n</a>\\n</li>\\n<li>\\n<a class=\"plausible-event-name=Credit+Rating plausible-event-user=unregistered\" href=\"https://www.careratings.com/upload/CompanyFiles/PR/29092021082534_MRF_Limited.pdf\" rel=\"noopener noreferrer\" target=\"_blank\">\\n      Rating update\\n      <div class=\"ink-600 smaller\">\\n        13 Apr 2021 from care\\n      </div>\\n</a>\\n</li>\\n</ul>\\n</div>\\n</div>\\n</div>\\n</section>\\n<!-- cache time 2024-05-08 16:56:07 -->\\n</main>\\n<footer id=\"large-footer\">\\n<div class=\"flex-row flex-space-between flex-column-tablet container no-print\">\\n<div class=\"hide-from-tablet\" style=\"margin-bottom: 16px;\">\\n<img alt=\"Screener Logo\" class=\"logo\" src=\"https://cdn-static.screener.in/img/logo-black.f44abb4998d1.svg\" style=\"max-width: 120px\"/>\\n</div>\\n<div class=\"show-from-tablet\" style=\"padding: 0 64px 0 0;\">\\n<img alt=\"Screener Logo\" class=\"logo\" src=\"https://cdn-static.screener.in/img/logo-black.f44abb4998d1.svg\" style=\"max-width: 120px\"/>\\n<p class=\"font-size-19\" style=\"font-weight: 500;\">Stock analysis and screening tool</p>\\n<p class=\"sub\">\\n        Mittal Analytics Private Ltd \\xc2\\xa9 2009-2024\\n        <br/>\\n        Made with <i class=\"icon-heart red\"></i> in India.\\n      </p>\\n<p class=\"sub font-size-13\">Data provided by C-MOTS Internet Technologies Pvt Ltd</p>\\n<p class=\"font-size-13 sub\">\\n<a class=\"underline-link\" href=\"/guides/terms/\">Terms</a> &amp; <a class=\"underline-link\" href=\"/guides/privacy/\">Privacy</a>.\\n      </p>\\n</div>\\n<div class=\"flex flex-end flex-space-between flex-grow\" style=\"max-width: 600px\">\\n<div class=\"flex-grow\">\\n<div class=\"title\">Product</div>\\n<ul class=\"items\">\\n<li>\\n<a href=\"/premium/\">Premium</a>\\n</li>\\n<li>\\n<a href=\"/docs/changelog/\">What\\'s new?</a>\\n</li>\\n<li>\\n<a href=\"https://bit.ly/learnscreener\">Learn</a>\\n</li>\\n<li>\\n<button class=\"a2hs button-secondary button-small\">\\n<i class=\"icon-flash\"></i>\\n              Install\\n            </button>\\n</li>\\n</ul>\\n</div>\\n<div class=\"flex-grow\">\\n<div class=\"title\">Team</div>\\n<ul class=\"items\">\\n<li>\\n<a href=\"/guides/about-us/\">About us</a>\\n</li>\\n<li>\\n<a href=\"/support/\">Support</a>\\n</li>\\n</ul>\\n</div>\\n<div class=\"flex-grow\">\\n<div class=\"title\">Theme</div>\\n<ul class=\"items\">\\n<li>\\n<button aria-label=\"Set light theme\" class=\"button-plain\" onclick=\"SetTheme(\\'light\\')\">\\n<i class=\"icon-sun\"></i>\\n              Light\\n            </button>\\n</li>\\n<li>\\n<button aria-label=\"Set dark theme\" class=\"button-plain\" onclick=\"SetTheme(\\'dark\\')\">\\n<i class=\"icon-moon\"></i>\\n              Dark\\n            </button>\\n</li>\\n<li>\\n<button aria-label=\"Set auto theme\" class=\"button-plain\" onclick=\"SetTheme(\\'auto\\')\">\\n<i class=\"icon-monitor\"></i>\\n              Auto\\n            </button>\\n</li>\\n</ul>\\n</div>\\n</div>\\n<div class=\"hide-from-tablet\">\\n<hr/>\\n<p class=\"sub\">Mittal Analytics Private Ltd \\xc2\\xa9 2009-2024</p>\\n<p class=\"sub\">Data provided by C-MOTS Internet Technologies Pvt Ltd</p>\\n<p class=\"sub\">\\n<a class=\"underline-link\" href=\"/guides/terms/\">Terms</a>\\n        &amp; <a class=\"underline-link\" href=\"/guides/privacy/\">Privacy</a>.\\n      </p>\\n</div>\\n</div>\\n</footer>\\n<!-- Important JS (which provide global objects)- check below too -->\\n<script src=\"https://cdn-static.screener.in/js/polyfill.c565c6038999.js\"></script>\\n<script src=\"https://cdn-static.screener.in/js/dialog-polyfill.min.2b5bf9a032d2.js\"></script>\\n<script src=\"https://cdn-static.screener.in/js/utils.7e5aa5c754ce.js\"></script>\\n<script src=\"https://cdn-static.screener.in/js/modal.aec75371a318.js\"></script>\\n<script src=\"https://cdn-static.screener.in/js/typeahead.8dcc9ac93685.js\"></script>\\n<script src=\"https://cdn-static.screener.in/js/filter.component.5add9ef3b7a9.js\"></script>\\n<!-- Independent JS scripts for page interactions -->\\n<script src=\"https://cdn-static.screener.in/js/navbar.3fe7f0f4a630.js\"></script>\\n<script src=\"https://cdn-static.screener.in/js/company.search.f6e70e38248c.js\"></script>\\n<script src=\"https://cdn-static.screener.in/js/scroll-aid.5ed2d38a133e.js\"></script>\\n<script src=\"https://cdn-static.screener.in/js/company.customisation.f49447e8c0f2.js\"></script>\\n<script src=\"https://cdn-static.screener.in/js/chart.min.10a29a29621c.js\"></script>\\n<script src=\"https://cdn-static.screener.in/js/chartjs-adapter-date-fns.bundle.min.ebae23730a6e.js\"></script>\\n<script src=\"https://cdn-static.screener.in/js/chart.e20c5f42613a.js\"></script>\\n<script src=\"https://cdn-static.screener.in/js/segment-result.b6af4191fd6f.js\"></script>\\n<!-- Service worker installer for PWA -->\\n<script src=\"https://cdn-static.screener.in/js/pwa.933118758337.js\"></script>\\n</body>\\n</html>\\n'\n"
     ]
    }
   ],
   "source": [
    "# Scrape data from web page\n",
    "url = f'https://www.screener.in/company/{company}/'\n",
    "response = requests.get(url)\n",
    "soup = BeautifulSoup(response.text, 'html.parser')\n",
    "table = soup.find_all('table')\n",
    "print(soup.encode(\"utf-8\"))"
   ]
  },
  {
   "cell_type": "code",
   "execution_count": 4,
   "metadata": {},
   "outputs": [
    {
     "name": "stdout",
     "output_type": "stream",
     "text": [
      "['53,592', '1,26,400', '1,51,445', '94,006', '26.3', '38,765', '0.14', '17.0', '13.2', '10.0']\n"
     ]
    }
   ],
   "source": [
    "search_inputs = soup.find_all(class_='number')\n",
    "\n",
    "# Initialize an empty list to store text from each element\n",
    "general_details = []\n",
    "\n",
    "# Iterate over each element in search_inputs\n",
    "for search_input in search_inputs:\n",
    "    # Extract text from the current element and split it into lines\n",
    "    text = search_input.text.strip()\n",
    "    lines = text.split('\\n')\n",
    "    # Append non-empty lines to the general_details list\n",
    "    general_details.extend([line for line in lines if line.strip()])\n",
    "\n",
    "# Print the general details\n",
    "print(general_details)\n"
   ]
  },
  {
   "cell_type": "code",
   "execution_count": 5,
   "metadata": {},
   "outputs": [],
   "source": [
    "required_tables = {0: \"Income Statement\", 1: \"Profit&Loss\",2: \"Compounded Sales Growth\", 3: \"Compounded Profit Growth\", 4: \"Stock Price CAGR\", 5: \"ROE\", 6: \"Balance Sheet\", 7: \"Cash Flows\", 8: \"Ratios\", 9: \"Shareholding_Pattern\"}"
   ]
  },
  {
   "cell_type": "code",
   "execution_count": 6,
   "metadata": {},
   "outputs": [],
   "source": [
    "#Extracting each table data\n",
    "Quarterly_Results = pd.read_html(str(table[0]))\n",
    "Quarterly_Results_df = pd.concat(Quarterly_Results, axis=1) # Converting list of dataframes to single dataframe\n",
    "Quarterly_Results_df.drop(index=11, inplace=True, axis=0)\n",
    "\n",
    "Profit_Loss = pd.read_html(str(table[1]))\n",
    "Profit_Loss_df = pd.concat(Profit_Loss, axis=1)\n",
    "\n",
    "Compounded_Sales_Growth = pd.read_html(str(table[2]))\n",
    "Compounded_Sales_Growth_df = pd.concat(Compounded_Sales_Growth, axis=1)\n",
    "\n",
    "Compounded_Profit_Growth = pd.read_html(str(table[3]))\n",
    "Compounded_Profit_Growth_df = pd.concat(Compounded_Profit_Growth, axis=1)\n",
    "\n",
    "Stock_Price_CAGR = pd.read_html(str(table[4]))\n",
    "Stock_Price_CAGR_df = pd.concat(Stock_Price_CAGR, axis=1)\n",
    "\n",
    "ROE = pd.read_html(str(table[5]))\n",
    "ROE_df = pd.concat(ROE, axis=1)\n",
    "\n",
    "Balance_Sheet = pd.read_html(str(table[6]))\n",
    "Balance_Sheet_df = pd.concat(Balance_Sheet, axis=1)\n",
    "\n",
    "Cash_Flows = pd.read_html(str(table[7]))\n",
    "Cash_Flows_df = pd.concat(Cash_Flows, axis=1)\n",
    "\n",
    "Ratios = pd.read_html(str(table[8]))\n",
    "Ratios_df = pd.concat(Ratios, axis=1)\n",
    "\n",
    "Shareholding_Pattern = pd.read_html(str(table[9]))\n",
    "Shareholding_Pattern_df = pd.concat(Shareholding_Pattern, axis=1)"
   ]
  },
  {
   "cell_type": "markdown",
   "metadata": {},
   "source": [
    "# Data Processing"
   ]
  },
  {
   "cell_type": "markdown",
   "metadata": {},
   "source": [
    "- Calculating PE Ratio"
   ]
  },
  {
   "cell_type": "code",
   "execution_count": 7,
   "metadata": {},
   "outputs": [
    {
     "name": "stdout",
     "output_type": "stream",
     "text": [
      "Current PE Ratio: 26.3\n",
      "53592\n",
      "2041\n",
      "           Unnamed: 0 Sep 2012 Sep 2013 Sep 2014 Mar 2016 Mar 2017 Mar 2018  \\\n",
      "0             Sales +    11867    12131    13197    19887    13252    14775   \n",
      "1          Expenses +    10606    10364    11266    15509    10652    12546   \n",
      "2    Operating Profit     1261     1767     1931     4378     2600     2229   \n",
      "3               OPM %      11%      15%      15%      22%      20%      15%   \n",
      "4      Other Income +       32       29       63      315      325      327   \n",
      "5            Interest      159      196      232      352      250      250   \n",
      "6        Depreciation      301      373      423      735      609      705   \n",
      "7   Profit before tax      833     1227     1339     3606     2066     1602   \n",
      "8               Tax %      31%      35%      33%      31%      30%      32%   \n",
      "9        Net Profit +      572      802      898     2474     1451     1092   \n",
      "10          EPS in Rs  1349.56  1891.51  2117.12  5833.16  3421.47  2575.46   \n",
      "11  Dividend Payout %       2%       2%       2%       2%       2%       2%   \n",
      "\n",
      "   Mar 2019 Mar 2020 Mar 2021 Mar 2022 Mar 2023 Mar 2024  \n",
      "0     15836    15989    15921    18989    22578    24674  \n",
      "1     13580    13659    13015    16967    20227    20506  \n",
      "2      2256     2330     2906     2022     2351     4168  \n",
      "3       14%      15%      18%      11%      10%      17%  \n",
      "4       412      330      202      313      321      312  \n",
      "5       253      281      271      255      304      316  \n",
      "6       806      981     1137     1201     1249     1425  \n",
      "7      1609     1399     1700      879     1119     2739  \n",
      "8       32%       0%      27%      26%      27%      25%  \n",
      "9      1097     1395     1249      647      816     2041  \n",
      "10  2586.29  3289.19  2945.13  1526.35  1924.57  4812.31  \n",
      "11       2%       3%       5%      10%       9%       4%  \n",
      "FY23 PE Ratio of MRF: 26.26\n"
     ]
    }
   ],
   "source": [
    "#Current PE Ratio\n",
    "Current_PE_ratio = general_details[4]\n",
    "print(f\"Current PE Ratio: {Current_PE_ratio}\")\n",
    "\n",
    "#Previous Year PE Ratio - FY23\n",
    "marketcap = general_details[0]\n",
    "marketcap = marketcap.replace(\",\", \"\")\n",
    "net_profit_23 = Profit_Loss_df.iloc[:,-1][9]\n",
    "print(marketcap)\n",
    "print(net_profit_23)\n",
    "print(Profit_Loss_df)\n",
    "print(f\"FY23 PE Ratio of {company}:\", round(int(marketcap)/int(net_profit_23),2))"
   ]
  },
  {
   "cell_type": "markdown",
   "metadata": {},
   "source": [
    "- 5-year Median RoCE"
   ]
  },
  {
   "cell_type": "code",
   "execution_count": 8,
   "metadata": {},
   "outputs": [
    {
     "data": {
      "text/html": [
       "<div>\n",
       "<style scoped>\n",
       "    .dataframe tbody tr th:only-of-type {\n",
       "        vertical-align: middle;\n",
       "    }\n",
       "\n",
       "    .dataframe tbody tr th {\n",
       "        vertical-align: top;\n",
       "    }\n",
       "\n",
       "    .dataframe thead th {\n",
       "        text-align: right;\n",
       "    }\n",
       "</style>\n",
       "<table border=\"1\" class=\"dataframe\">\n",
       "  <thead>\n",
       "    <tr style=\"text-align: right;\">\n",
       "      <th></th>\n",
       "      <th>Unnamed: 0</th>\n",
       "      <th>Sep 2012</th>\n",
       "      <th>Sep 2013</th>\n",
       "      <th>Sep 2014</th>\n",
       "      <th>Mar 2016</th>\n",
       "      <th>Mar 2017</th>\n",
       "      <th>Mar 2018</th>\n",
       "      <th>Mar 2019</th>\n",
       "      <th>Mar 2020</th>\n",
       "      <th>Mar 2021</th>\n",
       "      <th>Mar 2022</th>\n",
       "      <th>Mar 2023</th>\n",
       "      <th>Mar 2024</th>\n",
       "    </tr>\n",
       "  </thead>\n",
       "  <tbody>\n",
       "    <tr>\n",
       "      <th>0</th>\n",
       "      <td>Debtor Days</td>\n",
       "      <td>45</td>\n",
       "      <td>47</td>\n",
       "      <td>47</td>\n",
       "      <td>34</td>\n",
       "      <td>54</td>\n",
       "      <td>53</td>\n",
       "      <td>54</td>\n",
       "      <td>52</td>\n",
       "      <td>51</td>\n",
       "      <td>44</td>\n",
       "      <td>39</td>\n",
       "      <td>42.0</td>\n",
       "    </tr>\n",
       "    <tr>\n",
       "      <th>1</th>\n",
       "      <td>Inventory Days</td>\n",
       "      <td>72</td>\n",
       "      <td>83</td>\n",
       "      <td>78</td>\n",
       "      <td>61</td>\n",
       "      <td>116</td>\n",
       "      <td>87</td>\n",
       "      <td>112</td>\n",
       "      <td>110</td>\n",
       "      <td>114</td>\n",
       "      <td>119</td>\n",
       "      <td>97</td>\n",
       "      <td>107.0</td>\n",
       "    </tr>\n",
       "    <tr>\n",
       "      <th>2</th>\n",
       "      <td>Days Payable</td>\n",
       "      <td>41</td>\n",
       "      <td>47</td>\n",
       "      <td>50</td>\n",
       "      <td>50</td>\n",
       "      <td>82</td>\n",
       "      <td>80</td>\n",
       "      <td>88</td>\n",
       "      <td>90</td>\n",
       "      <td>168</td>\n",
       "      <td>81</td>\n",
       "      <td>66</td>\n",
       "      <td>72.0</td>\n",
       "    </tr>\n",
       "    <tr>\n",
       "      <th>3</th>\n",
       "      <td>Cash Conversion Cycle</td>\n",
       "      <td>76</td>\n",
       "      <td>83</td>\n",
       "      <td>76</td>\n",
       "      <td>45</td>\n",
       "      <td>89</td>\n",
       "      <td>60</td>\n",
       "      <td>78</td>\n",
       "      <td>71</td>\n",
       "      <td>-3</td>\n",
       "      <td>82</td>\n",
       "      <td>70</td>\n",
       "      <td>77.0</td>\n",
       "    </tr>\n",
       "    <tr>\n",
       "      <th>4</th>\n",
       "      <td>Working Capital Days</td>\n",
       "      <td>54</td>\n",
       "      <td>50</td>\n",
       "      <td>47</td>\n",
       "      <td>10</td>\n",
       "      <td>19</td>\n",
       "      <td>5</td>\n",
       "      <td>11</td>\n",
       "      <td>9</td>\n",
       "      <td>-42</td>\n",
       "      <td>33</td>\n",
       "      <td>11</td>\n",
       "      <td>51.0</td>\n",
       "    </tr>\n",
       "    <tr>\n",
       "      <th>5</th>\n",
       "      <td>ROCE %</td>\n",
       "      <td>23%</td>\n",
       "      <td>29%</td>\n",
       "      <td>27%</td>\n",
       "      <td>50%</td>\n",
       "      <td>23%</td>\n",
       "      <td>17%</td>\n",
       "      <td>16%</td>\n",
       "      <td>13%</td>\n",
       "      <td>14%</td>\n",
       "      <td>6%</td>\n",
       "      <td>7%</td>\n",
       "      <td>NaN</td>\n",
       "    </tr>\n",
       "  </tbody>\n",
       "</table>\n",
       "</div>"
      ],
      "text/plain": [
       "              Unnamed: 0 Sep 2012 Sep 2013 Sep 2014 Mar 2016 Mar 2017  \\\n",
       "0            Debtor Days       45       47       47       34       54   \n",
       "1         Inventory Days       72       83       78       61      116   \n",
       "2           Days Payable       41       47       50       50       82   \n",
       "3  Cash Conversion Cycle       76       83       76       45       89   \n",
       "4   Working Capital Days       54       50       47       10       19   \n",
       "5                 ROCE %      23%      29%      27%      50%      23%   \n",
       "\n",
       "  Mar 2018 Mar 2019 Mar 2020 Mar 2021 Mar 2022 Mar 2023  Mar 2024  \n",
       "0       53       54       52       51       44       39      42.0  \n",
       "1       87      112      110      114      119       97     107.0  \n",
       "2       80       88       90      168       81       66      72.0  \n",
       "3       60       78       71       -3       82       70      77.0  \n",
       "4        5       11        9      -42       33       11      51.0  \n",
       "5      17%      16%      13%      14%       6%       7%       NaN  "
      ]
     },
     "execution_count": 8,
     "metadata": {},
     "output_type": "execute_result"
    }
   ],
   "source": [
    "ratios_df = Ratios_df.head(6)\n",
    "ratios_df"
   ]
  },
  {
   "cell_type": "code",
   "execution_count": 9,
   "metadata": {},
   "outputs": [
    {
     "name": "stdout",
     "output_type": "stream",
     "text": [
      "5-year median RoCE: 10.0%\n"
     ]
    }
   ],
   "source": [
    "if not pd.isnull(ratios_df.iloc[:, -1][5]):\n",
    "    RoCE_5_year_median = statistics.median([int(ratios_df.iloc[:, -1][5].replace(\"%\", \"\")), \n",
    "                                             int(ratios_df.iloc[:, -2][5].replace(\"%\", \"\")), \n",
    "                                             int(ratios_df.iloc[:, -3][5].replace(\"%\", \"\")), \n",
    "                                             int(ratios_df.iloc[:, -4][5].replace(\"%\", \"\")), \n",
    "                                             int(ratios_df.iloc[:, -5][5].replace(\"%\", \"\"))])        \n",
    "else:\n",
    "    RoCE_5_year_median = statistics.median([int(ratios_df.iloc[:, -2][5].replace(\"%\", \"\")), \n",
    "                                             int(ratios_df.iloc[:, -3][5].replace(\"%\", \"\")), \n",
    "                                             int(ratios_df.iloc[:, -4][5].replace(\"%\", \"\")), \n",
    "                                             int(ratios_df.iloc[:, -5][5].replace(\"%\", \"\"))])\n",
    "print(f\"5-year median RoCE: {RoCE_5_year_median}%\")"
   ]
  },
  {
   "cell_type": "markdown",
   "metadata": {},
   "source": [
    "- Calculating Compounded Sales and Profit Growth"
   ]
  },
  {
   "cell_type": "code",
   "execution_count": 10,
   "metadata": {},
   "outputs": [
    {
     "data": {
      "text/html": [
       "<div>\n",
       "<style scoped>\n",
       "    .dataframe tbody tr th:only-of-type {\n",
       "        vertical-align: middle;\n",
       "    }\n",
       "\n",
       "    .dataframe tbody tr th {\n",
       "        vertical-align: top;\n",
       "    }\n",
       "\n",
       "    .dataframe thead th {\n",
       "        text-align: right;\n",
       "    }\n",
       "</style>\n",
       "<table border=\"1\" class=\"dataframe\">\n",
       "  <thead>\n",
       "    <tr style=\"text-align: right;\">\n",
       "      <th></th>\n",
       "      <th>Compounded Sales Growth</th>\n",
       "      <th>Compounded Sales Growth.1</th>\n",
       "    </tr>\n",
       "  </thead>\n",
       "  <tbody>\n",
       "    <tr>\n",
       "      <th>0</th>\n",
       "      <td>10 Years:</td>\n",
       "      <td>7%</td>\n",
       "    </tr>\n",
       "    <tr>\n",
       "      <th>1</th>\n",
       "      <td>5 Years:</td>\n",
       "      <td>9%</td>\n",
       "    </tr>\n",
       "    <tr>\n",
       "      <th>2</th>\n",
       "      <td>3 Years:</td>\n",
       "      <td>16%</td>\n",
       "    </tr>\n",
       "    <tr>\n",
       "      <th>3</th>\n",
       "      <td>TTM:</td>\n",
       "      <td>9%</td>\n",
       "    </tr>\n",
       "  </tbody>\n",
       "</table>\n",
       "</div>"
      ],
      "text/plain": [
       "  Compounded Sales Growth Compounded Sales Growth.1\n",
       "0               10 Years:                        7%\n",
       "1                5 Years:                        9%\n",
       "2                3 Years:                       16%\n",
       "3                    TTM:                        9%"
      ]
     },
     "execution_count": 10,
     "metadata": {},
     "output_type": "execute_result"
    }
   ],
   "source": [
    "Compounded_Sales_Growth_df.head()"
   ]
  },
  {
   "cell_type": "code",
   "execution_count": 11,
   "metadata": {},
   "outputs": [
    {
     "name": "stdout",
     "output_type": "stream",
     "text": [
      "Compounded Sales Growth:\n",
      "TTM Compounded Sales Growth: 9%\n",
      "3 Year Compounded Sales Growth: 16%\n",
      "5 Year Compounded Sales Growth: 9%\n",
      "10 Year Compounded Sales Growth: 7%\n",
      "\n",
      "Compounded Profit Growth:\n",
      "TTM Compounded Profit Growth: 197%\n",
      "3 Year Compounded Profit Growth: 18%\n",
      "5 Year Compounded Profit Growth: 13%\n",
      "10 Year Compounded Profit Growth: 10%\n"
     ]
    }
   ],
   "source": [
    "print(\"Compounded Sales Growth:\")\n",
    "csg_ttm = Compounded_Sales_Growth_df['Compounded Sales Growth.1'][3]\n",
    "csg_3_year = Compounded_Sales_Growth_df['Compounded Sales Growth.1'][2]\n",
    "csg_5_year = Compounded_Sales_Growth_df['Compounded Sales Growth.1'][1]\n",
    "csg_10_year = Compounded_Sales_Growth_df['Compounded Sales Growth.1'][0]\n",
    "print(f\"TTM Compounded Sales Growth: {csg_ttm}\")\n",
    "print(f\"3 Year Compounded Sales Growth: {csg_3_year}\")\n",
    "print(f\"5 Year Compounded Sales Growth: {csg_5_year}\")\n",
    "print(f\"10 Year Compounded Sales Growth: {csg_10_year}\")\n",
    "\n",
    "print(\"\\nCompounded Profit Growth:\")\n",
    "cpg_ttm = Compounded_Profit_Growth_df['Compounded Profit Growth.1'][3]\n",
    "cpg_3_year = Compounded_Profit_Growth_df['Compounded Profit Growth.1'][2]\n",
    "cpg_5_year = Compounded_Profit_Growth_df['Compounded Profit Growth.1'][1]\n",
    "cpg_10_year = Compounded_Profit_Growth_df['Compounded Profit Growth.1'][0]\n",
    "print(f\"TTM Compounded Profit Growth: {cpg_ttm}\")\n",
    "print(f\"3 Year Compounded Profit Growth: {cpg_3_year}\")\n",
    "print(f\"5 Year Compounded Profit Growth: {cpg_5_year}\")\n",
    "print(f\"10 Year Compounded Profit Growth: {cpg_10_year}\")"
   ]
  },
  {
   "cell_type": "markdown",
   "metadata": {},
   "source": [
    "# Saving the Data"
   ]
  },
  {
   "cell_type": "code",
   "execution_count": 13,
   "metadata": {},
   "outputs": [],
   "source": [
    "#Saving the data to Excel\n",
    "with pd.ExcelWriter(f'..\\download\\{company}.xlsx') as writer:\n",
    "    Quarterly_Results_df.to_excel(writer, sheet_name=required_tables[0], index=False)\n",
    "    Profit_Loss_df.to_excel(writer, sheet_name=required_tables[1], index=False)\n",
    "    Compounded_Sales_Growth_df.to_excel(writer, sheet_name=required_tables[2], index=False)\n",
    "    Compounded_Profit_Growth_df.to_excel(writer, sheet_name=required_tables[3], index=False)\n",
    "    Stock_Price_CAGR_df.to_excel(writer, sheet_name=required_tables[4], index=False)\n",
    "    ROE_df.to_excel(writer, sheet_name=required_tables[5], index=False)\n",
    "    Balance_Sheet_df.to_excel(writer, sheet_name=required_tables[6], index=False)\n",
    "    Cash_Flows_df.to_excel(writer, sheet_name=required_tables[7], index=False)\n",
    "    Ratios_df.to_excel(writer, sheet_name=required_tables[8], index=False)\n",
    "    Shareholding_Pattern_df.to_excel(writer, sheet_name=required_tables[9], index=False)"
   ]
  },
  {
   "cell_type": "code",
   "execution_count": null,
   "metadata": {},
   "outputs": [],
   "source": []
  }
 ],
 "metadata": {
  "kernelspec": {
   "display_name": ".venv",
   "language": "python",
   "name": "python3"
  },
  "language_info": {
   "codemirror_mode": {
    "name": "ipython",
    "version": 3
   },
   "file_extension": ".py",
   "mimetype": "text/x-python",
   "name": "python",
   "nbconvert_exporter": "python",
   "pygments_lexer": "ipython3",
   "version": "3.10.0"
  }
 },
 "nbformat": 4,
 "nbformat_minor": 2
}
